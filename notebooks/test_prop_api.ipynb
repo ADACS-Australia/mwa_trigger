{
 "cells": [
  {
   "cell_type": "code",
   "execution_count": 9,
   "metadata": {},
   "outputs": [],
   "source": [
    "import os\n",
    "import django\n",
    "import sys\n",
    "import glob\n",
    "from dotenv import load_dotenv\n",
    "from datetime import datetime\n",
    "import os\n",
    "import requests\n",
    "import voeventparse\n",
    "from tracet.parse_xml import parsed_VOEvent\n",
    "from utils_xml import voevent_to_dict, modify_swift_trigid, modify_swift_dates, write_and_upload\n",
    "\n",
    "# Load environment variables from the .env file\n",
    "env_path = '../.env_api'  # Update this path to the location of your .env_api file\n",
    "load_dotenv(env_path)\n",
    "# Set the Django settings module environment variable\n",
    "os.environ.setdefault('DJANGO_SETTINGS_MODULE', 'prop_api.settings')\n",
    "\n",
    "# # Add the project root directory to the Python path\n",
    "sys.path.append('../prop_api')  # Update this with the absolute path to your project root directory\n",
    "\n",
    "# # Initialize Django\n",
    "django.setup()"
   ]
  },
  {
   "cell_type": "code",
   "execution_count": 2,
   "metadata": {},
   "outputs": [],
   "source": [
    "# from  proposalsettings.models.prop_test2_neutrino.model import ProposalTest2Neutrino\n",
    "\n",
    "# prop = ProposalTest2Neutrino()\n",
    "# dict_data = prop.dict() # python dict\n",
    "# json_data = prop.json() # json string\n"
   ]
  },
  {
   "cell_type": "markdown",
   "metadata": {},
   "source": [
    "# Reading the XML file"
   ]
  },
  {
   "cell_type": "markdown",
   "metadata": {},
   "source": [
    "The example xml files are located in the notebooks/data directory. Other files are located in the webapp_tracet/tracet_package/tests/test_events directory. You can copy file from the test_events directory to the note book data directory and modify the date and trigger id and use. \n",
    "\n",
    "Please note that the topic needs to be added when writing the xml file to the database. For example, the following topic is used for SWIFT_BAT_GRB_POS:\n",
    "\n",
    "topic = 'gcn.classic.voevent.SWIFT_BAT_GRB_POS'"
   ]
  },
  {
   "cell_type": "code",
   "execution_count": 16,
   "metadata": {},
   "outputs": [],
   "source": [
    "#file_path = '/home/batbold/Projects/adacs_project_dev/TraceT/webapp_tracet/tracet_package/tests/test_events/Antares_1438351269.xml'\n",
    "file_path = 'data/SWIFT_BAT_Lightcurve_new.xml'\n",
    "# file_path = 'data/20241129/event_SWIFT_ACTUAL_POINTDIR_010640.xml'\n",
    "\n",
    "with open(file_path, 'r') as file:\n",
    "    xml_content = file.read()\n"
   ]
  },
  {
   "cell_type": "markdown",
   "metadata": {},
   "source": [
    "xml content can be converted using the following formula"
   ]
  },
  {
   "cell_type": "code",
   "execution_count": 4,
   "metadata": {},
   "outputs": [],
   "source": [
    "voevent_dict = voevent_to_dict(xml_content)"
   ]
  },
  {
   "cell_type": "code",
   "execution_count": 5,
   "metadata": {},
   "outputs": [],
   "source": [
    "# Example usage:\n",
    "new_trigid = \"1351317\"  # Your new TrigID\n",
    "xml_content_modified = modify_swift_trigid(xml_content, new_trigid)\n",
    "\n",
    "new_date = datetime.now().strftime(\"%Y-%m-%dT%H:%M:%S\")\n",
    "new_isotime = datetime.now().strftime(\"%Y-%m-%dT%H:%M:%S.%f\")\n",
    "\n",
    "xml_content_modified = modify_swift_dates(xml_content_modified, new_date, new_isotime)"
   ]
  },
  {
   "cell_type": "code",
   "execution_count": 6,
   "metadata": {},
   "outputs": [],
   "source": [
    "topic = 'gcn.classic.voevent.SWIFT_BAT_GRB_POS'"
   ]
  },
  {
   "cell_type": "code",
   "execution_count": 7,
   "metadata": {},
   "outputs": [
    {
     "data": {
      "text/plain": [
       "201"
      ]
     },
     "execution_count": 7,
     "metadata": {},
     "output_type": "execute_result"
    }
   ],
   "source": [
    "response = write_and_upload(xml_content_modified,topic=topic)\n",
    "response.status_code"
   ]
  },
  {
   "cell_type": "markdown",
   "metadata": {},
   "source": [
    "# LVC"
   ]
  },
  {
   "cell_type": "code",
   "execution_count": 10,
   "metadata": {},
   "outputs": [],
   "source": [
    "from utils_xml import modify_lvc_dates\n",
    "\n",
    "# Assuming you want to search in the test_events directory\n",
    "test_events_path = '../../test_events/'\n",
    "lvc_files = glob.glob(os.path.join(test_events_path, 'LVC*.xml'))"
   ]
  },
  {
   "cell_type": "code",
   "execution_count": 11,
   "metadata": {},
   "outputs": [],
   "source": [
    "file_path = 'data/LVC_real_preliminary_new.xml'\n",
    "\n",
    "with open(file_path, 'r') as file:\n",
    "    xml_content = file.read()"
   ]
  },
  {
   "cell_type": "code",
   "execution_count": 12,
   "metadata": {},
   "outputs": [],
   "source": [
    "# Example usage:\n",
    "\n",
    "new_date = datetime.now().strftime(\"%Y-%m-%dT%H:%M:%SZ\")\n",
    "updated_xml = modify_lvc_dates(xml_content, new_date)"
   ]
  },
  {
   "cell_type": "code",
   "execution_count": 13,
   "metadata": {},
   "outputs": [],
   "source": [
    "topic = 'gcn.classic.voevent.LVC_REAL_PRELIMINARY'"
   ]
  },
  {
   "cell_type": "code",
   "execution_count": 14,
   "metadata": {},
   "outputs": [
    {
     "data": {
      "text/plain": [
       "201"
      ]
     },
     "execution_count": 14,
     "metadata": {},
     "output_type": "execute_result"
    }
   ],
   "source": [
    "response = write_and_upload(updated_xml,topic=topic)\n",
    "response.status_code\n"
   ]
  },
  {
   "cell_type": "markdown",
   "metadata": {},
   "source": [
    "# Working with JSON files. "
   ]
  },
  {
   "cell_type": "markdown",
   "metadata": {},
   "source": [
    "After uploading event to the database, the django web server will send proposal decision to the api with other information including event, event_group, voevents, prop_dec, event_coord. Then using the decorator log_context, the context dictionary is written to the json file the following directory:\n",
    "\n",
    "prop_api/data/context_logs/\n",
    "\n",
    "\n"
   ]
  },
  {
   "cell_type": "code",
   "execution_count": 17,
   "metadata": {},
   "outputs": [],
   "source": [
    "import json\n",
    "from pathlib import Path"
   ]
  },
  {
   "cell_type": "code",
   "execution_count": 21,
   "metadata": {},
   "outputs": [],
   "source": [
    "context_logs_dir = Path(\"../prop_api/data/context_logs\")\n",
    "\n",
    "# Choose a file to load (for example, the first one)\n",
    "context_files = list(context_logs_dir.glob(\"prop*20241204*.json\"))"
   ]
  },
  {
   "cell_type": "code",
   "execution_count": 22,
   "metadata": {},
   "outputs": [
    {
     "data": {
      "text/plain": [
       "[PosixPath('../prop_api/data/context_logs/prop_atca_test_grb_worth_observing_context_20241204_043410.json'),\n",
       " PosixPath('../prop_api/data/context_logs/prop_atca_test_grb_worth_observing_context_20241204_044951.json')]"
      ]
     },
     "execution_count": 22,
     "metadata": {},
     "output_type": "execute_result"
    }
   ],
   "source": [
    "context_files"
   ]
  },
  {
   "cell_type": "code",
   "execution_count": 23,
   "metadata": {},
   "outputs": [],
   "source": [
    "from typing import List, Optional\n",
    "from typing import List, Optional, Dict, Any\n",
    "from pydantic import BaseModel\n",
    "from astropy.coordinates import SkyCoord\n",
    "from propsettings_app.schemas import (\n",
    "    EventSchema,\n",
    "    ProposalDecisionSchema,\n",
    "    EventGroupSchema,\n",
    "    ProposalDecision,\n",
    "    SkyCoordSchema\n",
    ")\n",
    "\n",
    "from proposalsettings.models.prop_atca_test_grb.models import ProposalAtcaTestGrb\n",
    "from proposalsettings.models.proposal import ProposalSettings\n",
    "\n",
    "class ProposalDecision(BaseModel):\n",
    "    id: int\n",
    "    decision: str\n",
    "    decision_reason: str\n",
    "    proposal: ProposalAtcaTestGrb  # please remember that this model is used for the context data not(parent ProposalSettings)\n",
    "    event_group_id: EventGroupSchema\n",
    "    trig_id: str\n",
    "    duration: float\n",
    "    ra: float\n",
    "    dec: float\n",
    "    alt: None\n",
    "    az: None\n",
    "    ra_hms: str\n",
    "    dec_dms: str\n",
    "    pos_error: float\n",
    "    recieved_data: str\n",
    "    "
   ]
  },
  {
   "cell_type": "code",
   "execution_count": 24,
   "metadata": {},
   "outputs": [
    {
     "data": {
      "text/plain": [
       "PosixPath('../prop_api/data/context_logs/prop_atca_test_grb_worth_observing_context_20241204_043410.json')"
      ]
     },
     "execution_count": 24,
     "metadata": {},
     "output_type": "execute_result"
    }
   ],
   "source": [
    "context_files[0]"
   ]
  },
  {
   "cell_type": "code",
   "execution_count": 25,
   "metadata": {},
   "outputs": [
    {
     "name": "stdout",
     "output_type": "stream",
     "text": [
      "Loading context from: ../prop_api/data/context_logs/prop_atca_test_grb_worth_observing_context_20241204_043410.json\n",
      "\n",
      "Parsed context data:\n"
     ]
    }
   ],
   "source": [
    "if context_files:\n",
    "    context_file = context_files[0]\n",
    "    print(f\"Loading context from: {context_file}\")\n",
    "\n",
    "    # Read the JSON file\n",
    "    with open(context_file, 'r') as f:\n",
    "        context = json.load(f)\n",
    "\n",
    "    # Parse the JSON data into a Pydantic model\n",
    "    try:\n",
    "        # Parse the JSON data into a Pydantic model\n",
    "        event_pyd = EventSchema(**context['event'])\n",
    "        prop_dec_pyd = ProposalDecision(**context[\"prop_dec\"])\n",
    "        event_group_pyd = EventGroupSchema(**context[\"event_group\"])\n",
    "        voevents_pyd = [EventSchema(**voevent) for voevent in context['voevents']]\n",
    "\n",
    "        if context['event_coord']:\n",
    "            event_coord = SkyCoordSchema(**context.event_coord.dict()).to_skycoord()\n",
    "        else:\n",
    "            event_coord = None\n",
    "    \n",
    "        context['event_coord'] = event_coord\n",
    "        context['voevents'] = voevents_pyd\n",
    "        context['event_group'] = event_group_pyd\n",
    "        context['prop_dec'] = prop_dec_pyd\n",
    "        context['event'] = event_pyd\n",
    "        \n",
    "        print(\"\\nParsed context data:\")\n",
    "        \n",
    "    except Exception as e:\n",
    "        print(\"Validation error:\", e)\n",
    "        print(\"Error details:\", e.errors())\n",
    "    \n",
    "else:\n",
    "    print(\"No context files found.\")\n",
    "    "
   ]
  },
  {
   "cell_type": "markdown",
   "metadata": {},
   "source": [
    "Here keys of the context dictionary: "
   ]
  },
  {
   "cell_type": "code",
   "execution_count": 26,
   "metadata": {},
   "outputs": [
    {
     "data": {
      "text/plain": [
       "dict_keys(['event', 'prop_dec', 'voevents', 'prop_decs_exist', 'event_group', 'event_coord', 'trigger_bool', 'debug_bool', 'pending_bool', 'observation_reason', 'proposal_worth_observing', 'send_alerts', 'reached_end', 'decision_reason_log', 'proj_source_bool'])"
      ]
     },
     "execution_count": 26,
     "metadata": {},
     "output_type": "execute_result"
    }
   ],
   "source": [
    "context.keys()\n"
   ]
  },
  {
   "cell_type": "code",
   "execution_count": 27,
   "metadata": {},
   "outputs": [
    {
     "name": "stdout",
     "output_type": "stream",
     "text": [
      "trigger_bool:  False\n",
      "debug_bool:  False\n",
      "pending_bool:  False\n",
      "decision_reason_log:  2024-12-04 04:34:09.786834+00:00: Event ID 572006: Beginning event analysis. \n",
      "\n"
     ]
    }
   ],
   "source": [
    "print(\"trigger_bool: \", context['trigger_bool'])    \n",
    "print(\"debug_bool: \", context['debug_bool'])\n",
    "print(\"pending_bool: \", context['pending_bool'])    \n",
    "print(\"decision_reason_log: \", context['decision_reason_log'])"
   ]
  },
  {
   "cell_type": "markdown",
   "metadata": {},
   "source": [
    "# Function Implementation"
   ]
  },
  {
   "cell_type": "markdown",
   "metadata": {},
   "source": [
    "Lets reimplement long grb logic using the context data and atra telescope for prop_atca_test_grb model as example. \n",
    "Here, we are writing the logic for is_worth_observing method. The input context parameter of this method is the context dictionary which is written the decorator log_context.\n",
    "its written in prop_api/data/context_logs/prop_atca_test_grb_worth_observing_context_20241129_033525.json\n"
   ]
  },
  {
   "cell_type": "code",
   "execution_count": 28,
   "metadata": {},
   "outputs": [],
   "source": [
    "from typing import Dict, List, Optional, Tuple, Union\n",
    "from proposalsettings.models.prop_atca_long_grb.model import utils_grb\n",
    "from proposalsettings.models.event import Event\n",
    "from proposalsettings.models.telescopesettings import (\n",
    "    ATCATelescopeSettings,\n",
    "    BaseTelescopeSettings,\n",
    "    MWATelescopeSettings,\n",
    ")\n",
    "\n",
    "# pydantic instances\n",
    "prop_dec = context['prop_dec']\n",
    "\n",
    "dec = prop_dec.dec\n",
    "decision_reason_log = context['decision_reason_log']\n",
    "prop_dec=prop_dec\n",
    "\n",
    "# remember that prop_dec is instance of pydantic model and you can treate like class \n",
    "telescope_settings = prop_dec.proposal.telescope_settings\n"
   ]
  },
  {
   "cell_type": "code",
   "execution_count": 29,
   "metadata": {},
   "outputs": [],
   "source": [
    "def is_worth_observing(context):\n",
    "    prop_dec = context[\"prop_dec\"]\n",
    "    decision_reason_log = context['decision_reason_log']\n",
    "    dec = prop_dec.dec\n",
    "    telescope_settings = prop_dec.proposal.telescope_settings\n",
    "    \n",
    "    \n",
    "    context_wo = worth_observing(\n",
    "        event=context['event'],\n",
    "        telescope_settings=telescope_settings,\n",
    "        prop_dec=prop_dec,\n",
    "        dec=dec,\n",
    "        decision_reason_log=decision_reason_log\n",
    "        )\n",
    "    \n",
    "    context[\"trigger_bool\"] = context_wo[\"trigger_bool\"]\n",
    "    context[\"debug_bool\"] = context_wo[\"debug_bool\"]\n",
    "    context[\"pending_bool\"] = context_wo[\"pending_bool\"]\n",
    "    context[\"decision_reason_log\"] = context_wo[\"decision_reason_log\"]\n",
    "    \n",
    "    return context\n",
    "    \n",
    "def worth_observing(\n",
    "        event: Event,\n",
    "        telescope_settings: Union[\n",
    "            BaseTelescopeSettings, MWATelescopeSettings, ATCATelescopeSettings\n",
    "        ],\n",
    "        **kwargs,\n",
    "    ) -> Dict:\n",
    "    \"\"\"\n",
    "    Determine if a GRB event is worth observing based on various criteria.\n",
    "\n",
    "    Args:\n",
    "        event (Event): The GRB event to evaluate.\n",
    "        telescope_settings (Union[BaseTelescopeSettings, MWATelescopeSettings, ATCATelescopeSettings]):\n",
    "            The settings for the telescope.\n",
    "        **kwargs: Additional keyword arguments.\n",
    "\n",
    "    Returns:\n",
    "        Tuple[bool, bool, bool, str]: A tuple containing:\n",
    "            - trigger_bool: Whether to trigger an observation.\n",
    "            - debug_bool: Whether to trigger a debug alert.\n",
    "            - pending_bool: Whether to create a pending observation.\n",
    "            - decision_reason_log: A log of the decision-making process.\n",
    "    \"\"\"\n",
    "\n",
    "    print(\"DEBUG - worth_observing_grb\")\n",
    "\n",
    "    prop_dec = kwargs.get(\"prop_dec\")\n",
    "\n",
    "    # Initialize the context with the event and default values\n",
    "    context = utils_grb.initialize_context(event, kwargs)\n",
    "\n",
    "    # Check if the event's position uncertainty is 0.0\n",
    "    context = utils_grb.check_position_error(context)\n",
    "\n",
    "    # Check if the event's position uncertainty is greater than the maximum allowed\n",
    "    context = utils_grb.check_large_position_error(telescope_settings, context)\n",
    "\n",
    "    # Check if the event's declination is within the ATCA limits\n",
    "    context = utils_grb.check_atca_declination_limits(\n",
    "        telescope_settings, context\n",
    "    )\n",
    "    print(\"DEBUG - context after check_atca_declination_limits\")\n",
    "    # Check the events likelyhood data\n",
    "    context[\"stop_processing\"] = False\n",
    "    context[\"likely_bool\"] = False\n",
    "\n",
    "    context = utils_grb.check_fermi_likelihood(telescope_settings, context)\n",
    "\n",
    "    context = utils_grb.check_swift_significance(telescope_settings, context)\n",
    "\n",
    "    context = utils_grb.check_hess_significance(telescope_settings, context)\n",
    "\n",
    "    context = utils_grb.default_no_likelihood(context)\n",
    "\n",
    "    # Check the duration of the event\n",
    "    # since new if starts, initialize the stop_processing flag\n",
    "    context[\"stop_processing\"] = False\n",
    "\n",
    "    context = utils_grb.check_any_event_duration(telescope_settings, context)\n",
    "\n",
    "    context = utils_grb.check_not_any_event_duration(\n",
    "        telescope_settings, context\n",
    "    )\n",
    "\n",
    "    context = utils_grb.check_duration_with_limits(telescope_settings, context)\n",
    "\n",
    "    context[\"reached_end\"] = True\n",
    "    return context\n",
    "\n"
   ]
  },
  {
   "cell_type": "code",
   "execution_count": 30,
   "metadata": {},
   "outputs": [
    {
     "name": "stdout",
     "output_type": "stream",
     "text": [
      "DEBUG - worth_observing_grb\n",
      "DEBUG - context after check_atca_declination_limits\n",
      "trigger_bool:  False\n",
      "debug_bool:  True\n",
      "pending_bool:  False\n",
      "decision_reason_log:  2024-12-04 04:34:09.786834+00:00: Event ID 572006: Beginning event analysis. \n",
      "2024-12-04 06:17:19.631496+00:00: Event ID 572006: The event's declination (44.4885) is outside limit 1 (-90 < dec < -5) or limit 2 (5 < dec < 20). \n",
      "2024-12-04 06:17:19.697861+00:00: Event ID 572006: SWIFT rate significance (25.03) >= swift_min_rate (0.000) sigma. \n",
      "\n"
     ]
    }
   ],
   "source": [
    "context = is_worth_observing(context)\n",
    "\n",
    "print(\"trigger_bool: \", context['trigger_bool'])    \n",
    "print(\"debug_bool: \", context['debug_bool'])\n",
    "print(\"pending_bool: \", context['pending_bool'])    \n",
    "print(\"decision_reason_log: \", context['decision_reason_log'])\n",
    "\n"
   ]
  },
  {
   "cell_type": "markdown",
   "metadata": {},
   "source": [
    "# Class Implementation\n",
    "\n"
   ]
  },
  {
   "cell_type": "code",
   "execution_count": 20,
   "metadata": {},
   "outputs": [],
   "source": [
    "import datetime as dt\n",
    "import logging\n",
    "from datetime import datetime, timezone\n",
    "from enum import Enum\n",
    "from typing import Dict, List, Optional, Tuple, Union\n",
    "\n",
    "from pydantic import BaseModel, Field\n",
    "\n",
    "from proposalsettings.consts import DEFAULT_PRIORITY, streams_all_grbs\n",
    "from proposalsettings.eventtelescope_factory import EventTelescopeFactory\n",
    "from proposalsettings.telescope_factory import TelescopeFactory\n",
    "from proposalsettings.telescopeprojectid_factory import TelescopeProjectIdFactory\n",
    "\n",
    "\n",
    "# general utils\n",
    "from proposalsettings.utils import utils_helper as utils_helper\n",
    "from proposalsettings.utils.utils_log import log_event\n",
    "\n",
    "\n",
    "# general utils\n",
    "from proposalsettings.utils import utils_helper as utils_helper\n",
    "from proposalsettings.utils.utils_log import log_event\n",
    "\n",
    "# source and triggerchoices and event and proposal classes in models\n",
    "from proposalsettings.models.constants import SourceChoices, TriggerOnChoices\n",
    "from proposalsettings.models.event import Event\n",
    "from proposalsettings.models.proposal import ProposalSettings\n",
    "from proposalsettings.models.telescope import EventTelescope, TelescopeProjectId\n",
    "from proposalsettings.models.telescopesettings import (\n",
    "    ATCATelescopeSettings,\n",
    "    BaseTelescopeSettings,\n",
    "    MWATelescopeSettings,\n",
    ")\n",
    "\n",
    "# local utils\n",
    "from proposalsettings.models.prop_atca_long_grb import utils_grb\n",
    "from proposalsettings.models.prop_atca_long_grb import utils_telescope_atca as utils_atca\n",
    "\n"
   ]
  },
  {
   "cell_type": "code",
   "execution_count": 21,
   "metadata": {},
   "outputs": [],
   "source": [
    "logger = logging.getLogger(__name__)\n",
    "\n",
    "\n",
    "class ProposalAtcaLongGrb(ProposalSettings):\n",
    "    \"\"\"\n",
    "    Represents the settings for ATCA Long GRB proposal.\n",
    "    \"\"\"\n",
    "\n",
    "    # Class variables\n",
    "    streams: List[str] = [\n",
    "        \"FERMI_GBM_ALERT\",\n",
    "        \"FERMI_GBM_FIN_POS\",\n",
    "        \"FERMI_GBM_FLT_POS\",\n",
    "        \"FERMI_GBM_GND_POS\",\n",
    "        \"FERMI_GBM_SUBTHRESH\",\n",
    "        \"FERMI_GBM_TEST_POS\",\n",
    "        \"FERMI_LAT_MONITOR\",\n",
    "        \"FERMI_LAT_OFFLINE_POS\",\n",
    "        \"FERMI_LAT_TEST_POS\",\n",
    "        \"FERMI_POINT_DIR\",\n",
    "        \"HESS_GRB_TO\",\n",
    "        \"MAXI_KNOWN_SOURCE_POS\",\n",
    "        \"SWIFT_BAT_GRB_POS\",\n",
    "        \"SWIFT_BAT_GRB_POS\",\n",
    "        \"SWIFT_BAT_GRB_TEST_POS\",\n",
    "        \"SWIFT_BAT_LIGHTCURVE\",\n",
    "        \"SWIFT_BAT_QUICKLOOK_POS\",\n",
    "        \"SWIFT_BAT_SCALEDMAP\",\n",
    "        \"SWIFT_BAT_TRANS_POS\",\n",
    "        \"SWIFT_FOM_OBS\",\n",
    "        \"SWIFT_SC_SLEW\",\n",
    "        \"SWIFT_UVOT_NACK_POS\",\n",
    "        \"SWIFT_UVOT_POS\",\n",
    "    ]\n",
    "\n",
    "    version: str = \"1.0.0\"\n",
    "    id: int = 12\n",
    "    proposal_id: str = \"ATCA_long_GRB\"\n",
    "    proposal_description: str = (\n",
    "        \"This is the triggering proposal for the large ATCA Long GRB program\"\n",
    "    )\n",
    "    priority: int = DEFAULT_PRIORITY\n",
    "    testing: TriggerOnChoices = TriggerOnChoices.REAL_ONLY\n",
    "    source_type: SourceChoices = SourceChoices.GRB\n",
    "\n",
    "    # Initialize factories in correct order\n",
    "    _telescope_factory = TelescopeFactory()\n",
    "    _project_id_factory = TelescopeProjectIdFactory(\n",
    "        telescope_factory=_telescope_factory\n",
    "    )\n",
    "    _event_telescope_factory = EventTelescopeFactory()\n",
    "\n",
    "    # Instance variables with default values\n",
    "    project_id: TelescopeProjectId = _project_id_factory.telescope_project_c3542\n",
    "    event_telescope: EventTelescope = _event_telescope_factory.event_telescope_swift\n",
    "    telescope_settings: ATCATelescopeSettings = ATCATelescopeSettings(\n",
    "        telescope=_telescope_factory.telescope_atca,\n",
    "        event_min_duration=2.056,\n",
    "        event_max_duration=10000.0,\n",
    "        pending_min_duration_1=0.0,\n",
    "        pending_max_duration_1=2.055,\n",
    "        pending_min_duration_2=0.0,\n",
    "        pending_max_duration_2=0.0,\n",
    "        maximum_position_uncertainty=0.1,\n",
    "        observe_significant=True,\n",
    "        atca_band_7mm=True,\n",
    "        atca_band_7mm_freq1=33000.0,\n",
    "        atca_band_7mm_freq2=35000.0,\n",
    "        atca_band_15mm=True,\n",
    "        atca_band_15mm_freq1=16700.0,\n",
    "        atca_band_15mm_freq2=21200.0,\n",
    "        atca_band_4cm=True,\n",
    "        atca_band_4cm_freq1=5500.0,\n",
    "        atca_band_4cm_freq2=9000.0,\n",
    "        atca_band_15mm_exptime=30,\n",
    "        atca_band_4cm_exptime=20,\n",
    "        atca_band_7mm_exptime=30,\n",
    "        atca_min_exptime=120,\n",
    "    )\n",
    "\n",
    "    class Config:\n",
    "        extra = \"forbid\"\n",
    "\n",
    "    def is_worth_observing(\n",
    "        self, context: Dict, **kwargs\n",
    "    ) -> Tuple[bool, bool, bool, str]:\n",
    "        \"\"\"\n",
    "        Determines if an event is worth observing based on the source settings.\n",
    "\n",
    "        Args:\n",
    "            event (Event): The event to evaluate.\n",
    "            **kwargs: Additional keyword arguments to pass to the worth_observing method.\n",
    "\n",
    "        Returns:\n",
    "            Tuple[bool, bool, bool, str]: A tuple containing:\n",
    "                - bool: True if the event is worth observing, False otherwise.\n",
    "                - bool: True if the event passes additional criteria.\n",
    "                - bool: True if the event requires immediate action.\n",
    "                - str: A message explaining the decision.\n",
    "        \"\"\"\n",
    "        event = context[\"event\"]\n",
    "        prop_dec = context[\"prop_dec\"]\n",
    "        decision_reason_log = context['decision_reason_log']\n",
    "        dec = prop_dec.dec\n",
    "\n",
    "        context_wo = self.worth_observing(\n",
    "            event,\n",
    "            self.telescope_settings,\n",
    "            prop_dec=prop_dec,\n",
    "            dec=dec,\n",
    "            decision_reason_log=decision_reason_log,\n",
    "        )\n",
    "\n",
    "        context[\"trigger_bool\"] = context_wo[\"trigger_bool\"]\n",
    "        context[\"debug_bool\"] = context_wo[\"debug_bool\"]\n",
    "        context[\"pending_bool\"] = context_wo[\"pending_bool\"]\n",
    "        context[\"decision_reason_log\"] = context_wo[\"decision_reason_log\"]\n",
    "\n",
    "        return context\n",
    "\n",
    "\n",
    "    @log_event(\n",
    "        log_location=\"end\", message=f\"Trigger observation completed\", level=\"info\"\n",
    "    )\n",
    "    def trigger_gen_observation(self, context: Dict, **kwargs) -> Tuple[str, str]:\n",
    "        \"\"\"\n",
    "        Triggers the generation of an observation based on the event context.\n",
    "\n",
    "        This method is called after receiving a response that an event is worth observing.\n",
    "        It performs various checks and triggers observations for different telescopes (MWA, ATCA).\n",
    "\n",
    "        Args:\n",
    "            context (Dict): A dictionary containing the context of the event and observation.\n",
    "            **kwargs: Additional keyword arguments.\n",
    "\n",
    "        Returns:\n",
    "            Tuple[str, str]: A tuple containing the decision and the decision reason log.\n",
    "        \"\"\"\n",
    "        print(f\"DEBUG - START context keys: {context.keys()}\")\n",
    "\n",
    "        context = utils_helper.check_mwa_horizon_and_prepare_context(context)\n",
    "\n",
    "        # TODO: Remove this after testing\n",
    "        # context[\"stop_processing\"] = False\n",
    "        print(\"DEBUG - context['stop_processing']: \", context[\"stop_processing\"])\n",
    "\n",
    "        if context[\"stop_processing\"]:\n",
    "            return context[\"decision\"], context[\"decision_reason_log\"]\n",
    "\n",
    "        context = self.trigger_atca_observation(\n",
    "            telescope_settings=self.telescope_settings, context=context\n",
    "        )\n",
    "\n",
    "        if (\n",
    "            self.telescope_settings.telescope.name.startswith(\"ATCA\") is False\n",
    "            and self.telescope_settings.telescope.name.startswith(\"MWA\") is False\n",
    "        ):\n",
    "            context[\"decision_reason_log\"] = (\n",
    "                f\"{context['decision_reason_log']}{datetime.now(dt.timezone.utc)}: Event ID {context['event_id']}: Not making an MWA observation. \\n\"\n",
    "            )\n",
    "\n",
    "        context['reached_end'] = True\n",
    "        print(f\"DEBUG - END context keys: {context.keys()}\")\n",
    "        return context\n",
    "\n",
    "    # GRB settings\n",
    "    # event: Dict, proc_dec: Dict\n",
    "    # Final aggregation function\n",
    "    @log_event(\n",
    "        log_location=\"end\",\n",
    "        message=f\"Worth observing for GRB source completed\",\n",
    "        level=\"info\",\n",
    "    )\n",
    "    def worth_observing(\n",
    "        self,\n",
    "        event: Event,\n",
    "        telescope_settings: Union[\n",
    "            BaseTelescopeSettings, MWATelescopeSettings, ATCATelescopeSettings\n",
    "        ],\n",
    "        **kwargs,\n",
    "    ) -> Dict:\n",
    "        \"\"\"\n",
    "        Determine if a GRB event is worth observing based on various criteria.\n",
    "\n",
    "        Args:\n",
    "            event (Event): The GRB event to evaluate.\n",
    "            telescope_settings (Union[BaseTelescopeSettings, MWATelescopeSettings, ATCATelescopeSettings]):\n",
    "                The settings for the telescope.\n",
    "            **kwargs: Additional keyword arguments.\n",
    "\n",
    "        Returns:\n",
    "            Tuple[bool, bool, bool, str]: A tuple containing:\n",
    "                - trigger_bool: Whether to trigger an observation.\n",
    "                - debug_bool: Whether to trigger a debug alert.\n",
    "                - pending_bool: Whether to create a pending observation.\n",
    "                - decision_reason_log: A log of the decision-making process.\n",
    "        \"\"\"\n",
    "\n",
    "        print(\"DEBUG - worth_observing_grb\")\n",
    "\n",
    "        prop_dec = kwargs.get(\"prop_dec\")\n",
    "\n",
    "        # Initialize the context with the event and default values\n",
    "        context = utils_grb.initialize_context(event, kwargs)\n",
    "\n",
    "        # Check if the event's position uncertainty is 0.0\n",
    "        context = utils_grb.check_position_error(context)\n",
    "\n",
    "        # Check if the event's position uncertainty is greater than the maximum allowed\n",
    "        context = utils_grb.check_large_position_error(self.telescope_settings, context)\n",
    "\n",
    "        # Check if the event's declination is within the ATCA limits\n",
    "        context = utils_grb.check_atca_declination_limits(\n",
    "            self.telescope_settings, context\n",
    "        )\n",
    "        print(\"DEBUG - context after check_atca_declination_limits\")\n",
    "        # Check the events likelyhood data\n",
    "        context[\"stop_processing\"] = False\n",
    "        context[\"likely_bool\"] = False\n",
    "\n",
    "        context = utils_grb.check_fermi_likelihood(self.telescope_settings, context)\n",
    "\n",
    "        context = utils_grb.check_swift_significance(self.telescope_settings, context)\n",
    "\n",
    "        context = utils_grb.check_hess_significance(self.telescope_settings, context)\n",
    "\n",
    "        context = utils_grb.default_no_likelihood(context)\n",
    "\n",
    "        # Check the duration of the event\n",
    "        # since new if starts, initialize the stop_processing flag\n",
    "        context[\"stop_processing\"] = False\n",
    "\n",
    "        context = utils_grb.check_any_event_duration(self.telescope_settings, context)\n",
    "\n",
    "        context = utils_grb.check_not_any_event_duration(\n",
    "            self.telescope_settings, context\n",
    "        )\n",
    "\n",
    "        context = utils_grb.check_duration_with_limits(self.telescope_settings, context)\n",
    "\n",
    "        context[\"reached_end\"] = True\n",
    "        return context\n",
    "\n",
    "    @log_event(\n",
    "        log_location=\"end\",\n",
    "        message=f\"Trigger ATCA observation for GRB source completed\",\n",
    "        level=\"info\",\n",
    "    )\n",
    "    def trigger_atca_observation(\n",
    "        self,\n",
    "        context: Dict,\n",
    "        telescope_settings: Union[\n",
    "            BaseTelescopeSettings, MWATelescopeSettings, ATCATelescopeSettings\n",
    "        ],\n",
    "        **kwargs,\n",
    "    ) -> Tuple[str, str]:\n",
    "        \"\"\"\n",
    "        Trigger an ATCA observation for a GRB event.\n",
    "\n",
    "        Args:\n",
    "            context (Dict): The context containing event and observation information.\n",
    "            telescope_settings (Union[BaseTelescopeSettings, MWATelescopeSettings, ATCATelescopeSettings]):\n",
    "                The settings for the ATCA telescope.\n",
    "            **kwargs: Additional keyword arguments.\n",
    "\n",
    "        Returns:\n",
    "            Tuple[str, str]: A tuple containing updated context information.\n",
    "        \"\"\"\n",
    "\n",
    "        telescope_name = telescope_settings.telescope.name\n",
    "\n",
    "        if context[\"stop_processing\"]:\n",
    "            return context\n",
    "\n",
    "        if telescope_name.startswith(\"ATCA\") is False:\n",
    "            return context\n",
    "\n",
    "        print(\"DEBUG - Trigger ATCA observation for GRB source\")\n",
    "\n",
    "        # context = utils_tel.handle_atca_observation(context)\n",
    "\n",
    "        context = utils_atca.handle_atca_observation(\n",
    "            telescope_settings=telescope_settings, context=context\n",
    "        )\n",
    "\n",
    "        context[\"reached_end\"] = True\n",
    "\n",
    "        return context\n"
   ]
  },
  {
   "cell_type": "markdown",
   "metadata": {},
   "source": [
    "It needs to be tested with the context data. "
   ]
  },
  {
   "cell_type": "code",
   "execution_count": 22,
   "metadata": {},
   "outputs": [
    {
     "name": "stdout",
     "output_type": "stream",
     "text": [
      "DEBUG - worth_observing_grb\n",
      "DEBUG - context after check_atca_declination_limits\n"
     ]
    }
   ],
   "source": [
    "prop = ProposalAtcaLongGrb()\n",
    "context = prop.is_worth_observing(context)"
   ]
  },
  {
   "cell_type": "code",
   "execution_count": 23,
   "metadata": {},
   "outputs": [
    {
     "name": "stdout",
     "output_type": "stream",
     "text": [
      "trigger_bool:  False\n",
      "debug_bool:  True\n",
      "pending_bool:  False\n",
      "decision_reason_log:  2024-11-29 06:06:09.619838+00:00: Event ID 572017: Beginning event analysis. \n",
      "2024-11-29 06:36:17.210795+00:00: Event ID 572017: The event's declination (44.4885) is outside limit 1 (-90 < dec < -5) or limit 2 (5 < dec < 20). \n",
      "2024-11-29 06:36:17.298909+00:00: Event ID 572017: SWIFT rate significance (25.03) >= swift_min_rate (0.000) sigma. \n",
      "2024-11-29 06:36:21.609001+00:00: Event ID 572017: The event's declination (44.4885) is outside limit 1 (-90 < dec < -5) or limit 2 (5 < dec < 20). \n",
      "2024-11-29 06:36:21.687612+00:00: Event ID 572017: SWIFT rate significance (25.03) >= swift_min_rate (0.000) sigma. \n",
      "\n"
     ]
    }
   ],
   "source": [
    "print(\"trigger_bool: \", context['trigger_bool'])    \n",
    "print(\"debug_bool: \", context['debug_bool'])\n",
    "print(\"pending_bool: \", context['pending_bool'])    \n",
    "print(\"decision_reason_log: \", context['decision_reason_log'])"
   ]
  },
  {
   "cell_type": "code",
   "execution_count": null,
   "metadata": {},
   "outputs": [],
   "source": []
  }
 ],
 "metadata": {
  "kernelspec": {
   "display_name": "base",
   "language": "python",
   "name": "python3"
  },
  "language_info": {
   "codemirror_mode": {
    "name": "ipython",
    "version": 3
   },
   "file_extension": ".py",
   "mimetype": "text/x-python",
   "name": "python",
   "nbconvert_exporter": "python",
   "pygments_lexer": "ipython3",
   "version": "3.10.15"
  }
 },
 "nbformat": 4,
 "nbformat_minor": 2
}
