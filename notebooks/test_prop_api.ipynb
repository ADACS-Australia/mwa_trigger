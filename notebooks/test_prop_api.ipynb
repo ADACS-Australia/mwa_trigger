{
 "cells": [
  {
   "cell_type": "code",
   "execution_count": 21,
   "metadata": {},
   "outputs": [],
   "source": [
    "import os\n",
    "import django\n",
    "import sys\n",
    "import glob\n",
    "from dotenv import load_dotenv\n",
    "from datetime import datetime\n",
    "import os\n",
    "import requests\n",
    "import voeventparse\n",
    "from tracet.parse_xml import parsed_VOEvent\n",
    "\n",
    "\n",
    "# Load environment variables from the .env file\n",
    "env_path = '../.env_api'  # Update this path to the location of your .env_api file\n",
    "load_dotenv(env_path)\n",
    "# Set the Django settings module environment variable\n",
    "os.environ.setdefault('DJANGO_SETTINGS_MODULE', 'prop_api.settings')\n",
    "\n",
    "# # Add the project root directory to the Python path\n",
    "sys.path.append('../prop_api')  # Update this with the absolute path to your project root directory\n",
    "\n",
    "# # Initialize Django\n",
    "django.setup()"
   ]
  },
  {
   "cell_type": "code",
   "execution_count": 22,
   "metadata": {},
   "outputs": [],
   "source": [
    "# from  proposalsettings.models.prop_test2_neutrino.model import ProposalTest2Neutrino\n",
    "\n",
    "# prop = ProposalTest2Neutrino()\n",
    "# dict_data = prop.dict() # python dict\n",
    "# json_data = prop.json() # json string\n"
   ]
  },
  {
   "cell_type": "markdown",
   "metadata": {},
   "source": [
    "# Reading the XML file"
   ]
  },
  {
   "cell_type": "code",
   "execution_count": 23,
   "metadata": {},
   "outputs": [],
   "source": [
    "from utils_xml import voevent_to_dict, modify_swift_trigid, modify_swift_dates, write_and_upload"
   ]
  },
  {
   "cell_type": "code",
   "execution_count": 24,
   "metadata": {},
   "outputs": [
    {
     "data": {
      "text/plain": [
       "'<VOEvent xmlns:xsi=\"http://www.w3.org/2001/XMLSchema-instance\"\\n    ivorn=\"ivo://nasa.gsfc.gcn/SWIFT#BAT_GRB_Pos_1156572-727\" role=\"observation\" version=\"2.0\"\\n    xsi:schemaLocation=\"http://www.ivoa.net/xml/VOEvent/v2.0 http://www.ivoa.net/xml/VOEvent/VOEvent-v2.0.xsd\">\\n    <Who>\\n        <AuthorIVORN>ivo://nasa.gsfc.tan/gcn</AuthorIVORN>\\n        <Author>\\n            <shortName>VO-GCN</shortName>\\n            <contactName>Scott Barthelmy</contactName>\\n            <contactPhone>+1-301-286-3106</contactPhone>\\n            <contactEmail>scott.barthelmy@nasa.gov</contactEmail>\\n        </Author>\\n        <Date>2024-11-27T14:05:05</Date>\\n        <Description>This VOEvent message was created with GCN VOE version: 15.08 17jun22</Description>\\n    </Who>\\n    <What>\\n        <Param name=\"Packet_Type\" value=\"61\" />\\n        <Param name=\"Pkt_Ser_Num\" value=\"2\" />\\n        <Param name=\"TrigID\" value=\"1351302\" ucd=\"meta.id\" />\\n        <Param name=\"Segment_Num\" value=\"0\" ucd=\"meta.id.part\" />\\n        <Param name=\"Burst_TJD\" value=\"20003\" unit=\"days\" ucd=\"time\" />\\n        <Param name=\"Burst_SOD\" value=\"21050.25\" unit=\"sec\" ucd=\"time\" />\\n        <Param name=\"Burst_Inten\" value=\"1935\" unit=\"cts\" ucd=\"phot.count;em.gamma.soft\" />\\n        <Param name=\"Burst_Peak\" value=\"210\" unit=\"cts\" ucd=\"phot.count;em.gamma.soft\" />\\n        <Param name=\"Integ_Time\" value=\"1.024\" unit=\"sec\" ucd=\"time.interval\" />\\n        <Param name=\"Phi\" value=\"177.68\" unit=\"deg\" ucd=\"pos.az.azi\" />\\n        <Param name=\"Theta\" value=\"30.83\" unit=\"deg\" ucd=\"pos.az.zd\" />\\n        <Param name=\"Trig_Index\" value=\"146\" />\\n        <Param name=\"Soln_Status\" value=\"0x3\" />\\n        <Param name=\"Misc_flags\" value=\"0x0\" />\\n        <Param name=\"Cat_Num\" value=\"0\" />\\n        <Param name=\"Rate_Signif\" value=\"25.03\" unit=\"sigma\" ucd=\"stat.snr\" />\\n        <Param name=\"Image_Signif\" value=\"11.96\" unit=\"sigma\" ucd=\"stat.snr\" />\\n        <Param name=\"Bkg_Inten\" value=\"8315\" unit=\"cts\" ucd=\"phot.count\" />\\n        <Param name=\"Bkg_Time\" value=\"05:50:33.16\" ucd=\"time.start\" />\\n        <Param name=\"Bkg_Dur\" value=\"8.00\" unit=\"sec\" ucd=\"time.duration\" />\\n        <Param name=\"SC_Long\" value=\"91.38\" unit=\"deg\" ucd=\"pos.earth.lon\" />\\n        <Param name=\"SC_Lat\" value=\"8.91\" unit=\"deg\" ucd=\"pos.earth.lat\" />\\n        <Group name=\"Merit_Values\">\\n            <Param name=\"Merit_Val0\" value=\"1\" unit=\"dn\" />\\n            <Param name=\"Merit_Val1\" value=\"0\" unit=\"dn\" />\\n            <Param name=\"Merit_Val2\" value=\"0\" unit=\"dn\" />\\n            <Param name=\"Merit_Val3\" value=\"0\" unit=\"dn\" />\\n            <Param name=\"Merit_Val4\" value=\"2\" unit=\"dn\" />\\n            <Param name=\"Merit_Val5\" value=\"1\" unit=\"dn\" />\\n            <Param name=\"Merit_Val6\" value=\"0\" unit=\"dn\" />\\n            <Param name=\"Merit_Val7\" value=\"0\" unit=\"dn\" />\\n            <Param name=\"Merit_Val8\" value=\"-46\" unit=\"dn\" />\\n            <Param name=\"Merit_Val9\" value=\"0\" unit=\"dn\" />\\n        </Group>\\n        <Group name=\"Solution_Status\">\\n            <Param name=\"Point_Source\" value=\"true\" />\\n            <Param name=\"GRB_Identified\" value=\"true\" />\\n            <Param name=\"Target_of_Interest\" value=\"false\" />\\n            <Param name=\"Target_Imag_Trig\" value=\"false\" />\\n            <Param name=\"Target_Rate_Trig\" value=\"true\" />\\n            <Param name=\"Def_NOT_a_GRB\" value=\"false\" />\\n            <Param name=\"Hi_Bkg_Level\" value=\"false\" />\\n            <Param name=\"Neg_Bkg_Slope\" value=\"false\" />\\n            <Param name=\"Lo_Image_Signif\" value=\"false\" />\\n            <Param name=\"VERY_Lo_Image_Signif\" value=\"false\" />\\n            <Param name=\"Target_in_Flt_Catalog\" value=\"false\" />\\n            <Param name=\"Target_in_Gnd_Catalog\" value=\"false\" />\\n            <Param name=\"Target_in_Blk_Catalog\" value=\"false\" />\\n            <Param name=\"StarTrack_Lost_Lock\" value=\"false\" />\\n            <Param name=\"Near_Bright_Star\" value=\"false\" />\\n            <Param name=\"Src_Removed_from_OnBoard\" value=\"false\" />\\n            <Param name=\"Converted_SubThresh\" value=\"false\" />\\n            <Param name=\"Spatial_Prox_Match\" value=\"false\" />\\n            <Param name=\"Temporal_Prox_Match\" value=\"false\" />\\n            <Param name=\"Test_Submission\" value=\"false\" />\\n        </Group>\\n        <Group name=\"Misc_Flags\">\\n            <Param name=\"Values_Out_of_Range\" value=\"false\" />\\n            <Param name=\"Already_Observing_Position\" value=\"false\" />\\n            <Param name=\"Near_Bright_Star\" value=\"false\" />\\n            <Param name=\"Err_Circle_in_Galaxy\" value=\"false\" />\\n            <Param name=\"Galaxy_in_Err_Circle\" value=\"false\" />\\n            <Param name=\"ImTrig_during_ST_LoL\" value=\"false\" />\\n            <Param name=\"TOO_Generated\" value=\"false\" />\\n            <Param name=\"Trig_time_is_SecHdrTime\" value=\"false\" />\\n            <Param name=\"Delayed_Transmission\" value=\"false\" />\\n            <Param name=\"Updated_Notice\" value=\"false\" />\\n            <Param name=\"Flt_Generated\" value=\"true\" />\\n            <Param name=\"Gnd_Generated\" value=\"false\" />\\n            <Param name=\"SERS_Generated\" value=\"false\" />\\n            <Param name=\"Other_Generated\" value=\"false\" />\\n            <Param name=\"CRC_Error\" value=\"false\" />\\n        </Group>\\n        <Param name=\"Coords_Type\" value=\"1\" unit=\"dn\" />\\n        <Param name=\"Coords_String\" value=\"source_object\" />\\n        <Group name=\"Obs_Support_Info\">\\n            <Description>The Sun and Moon values are valid at the time the VOEvent XML message was created.</Description>\\n            <Param name=\"Sun_RA\" value=\"340.95\" unit=\"deg\" ucd=\"pos.eq.ra\" />\\n            <Param name=\"Sun_Dec\" value=\"-8.05\" unit=\"deg\" ucd=\"pos.eq.dec\" />\\n            <Param name=\"Sun_Distance\" value=\"62.70\" unit=\"deg\" ucd=\"pos.angDistance\" />\\n            <Param name=\"Sun_Hr_Angle\" value=\"-2.52\" unit=\"hr\" />\\n            <Param name=\"Moon_RA\" value=\"78.33\" unit=\"deg\" ucd=\"pos.eq.ra\" />\\n            <Param name=\"Moon_Dec\" value=\"26.53\" unit=\"deg\" ucd=\"pos.eq.dec\" />\\n            <Param name=\"MOON_Distance\" value=\"50.50\" unit=\"deg\" ucd=\"pos.angDistance\" />\\n            <Param name=\"Moon_Illum\" value=\"59.03\" unit=\"%\" ucd=\"arith.ratio\" />\\n            <Param name=\"Galactic_Long\" value=\"127.09\" unit=\"deg\" ucd=\"pos.galactic.lon\" />\\n            <Param name=\"Galactic_Lat\" value=\"-18.20\" unit=\"deg\" ucd=\"pos.galactic.lat\" />\\n            <Param name=\"Ecliptic_Long\" value=\"35.64\" unit=\"deg\" ucd=\"pos.ecliptic.lon\" />\\n            <Param name=\"Ecliptic_Lat\" value=\"33.60\" unit=\"deg\" ucd=\"pos.ecliptic.lat\" />\\n        </Group>\\n        <Description>Type=61: The Swift-BAT instrument position notice.</Description>\\n    </What>\\n    <WhereWhen>\\n        <ObsDataLocation>\\n            <ObservatoryLocation id=\"GEOLUN\" />\\n            <ObservationLocation>\\n                <AstroCoordSystem id=\"UTC-FK5-GEO\" />\\n                <AstroCoords coord_system_id=\"UTC-FK5-GEO\">\\n                    <Time unit=\"s\">\\n                        <TimeInstant>\\n                            <ISOTime>2024-11-27T14:05:05.25</ISOTime>\\n                        </TimeInstant>\\n                    </Time>\\n                    <Position2D unit=\"deg\">\\n                        <Name1>RA</Name1>\\n                        <Name2>Dec</Name2>\\n                        <Value2>\\n                            <C1>18.4033</C1>\\n                            <C2>44.4885</C2>\\n                        </Value2>\\n                        <Error2Radius>0.0500</Error2Radius>\\n                    </Position2D>\\n                </AstroCoords>\\n            </ObservationLocation>\\n        </ObsDataLocation>\\n        <Description>The RA,Dec coordinates are of the type: source_object.</Description>\\n    </WhereWhen>\\n    <How>\\n        <Description>Swift Satellite, BAT Instrument</Description>\\n        <Reference uri=\"http://gcn.gsfc.nasa.gov/swift.html\" type=\"url\" />\\n    </How>\\n    <Why importance=\"0.90\">\\n        <Inference probability=\"0.90\">\\n            <Name>GRB 230228</Name>\\n            <Concept>process.variation.burst;em.gamma</Concept>\\n        </Inference>\\n    </Why>\\n    <Description>\\n  </Description>\\n    <original_prefix>voe</original_prefix>\\n</VOEvent>'"
      ]
     },
     "execution_count": 24,
     "metadata": {},
     "output_type": "execute_result"
    }
   ],
   "source": [
    "#file_path = '/home/batbold/Projects/adacs_project_dev/TraceT/webapp_tracet/tracet_package/tests/test_events/Antares_1438351269.xml'\n",
    "file_path = 'data/SWIFT_BAT_Lightcurve_new.xml'\n",
    "# file_path = 'data/20241129/event_SWIFT_ACTUAL_POINTDIR_010640.xml'\n",
    "\n",
    "with open(file_path, 'r') as file:\n",
    "    xml_content = file.read()\n",
    "\n",
    "xml_content"
   ]
  },
  {
   "cell_type": "markdown",
   "metadata": {},
   "source": [
    "xml content can be converted using the following formula"
   ]
  },
  {
   "cell_type": "code",
   "execution_count": 25,
   "metadata": {},
   "outputs": [],
   "source": [
    "voevent_dict = voevent_to_dict(xml_content)"
   ]
  },
  {
   "cell_type": "code",
   "execution_count": 30,
   "metadata": {},
   "outputs": [],
   "source": [
    "# Example usage:\n",
    "new_trigid = \"1351314\"  # Your new TrigID\n",
    "xml_content_modified = modify_swift_trigid(xml_content, new_trigid)\n",
    "\n",
    "new_date = datetime.now().strftime(\"%Y-%m-%dT%H:%M:%S\")\n",
    "new_isotime = datetime.now().strftime(\"%Y-%m-%dT%H:%M:%S.%f\")\n",
    "\n",
    "xml_content_modified = modify_swift_dates(xml_content_modified, new_date, new_isotime)"
   ]
  },
  {
   "cell_type": "code",
   "execution_count": 31,
   "metadata": {},
   "outputs": [
    {
     "data": {
      "text/plain": [
       "201"
      ]
     },
     "execution_count": 31,
     "metadata": {},
     "output_type": "execute_result"
    }
   ],
   "source": [
    "response = write_and_upload(xml_content_modified)\n",
    "response.status_code"
   ]
  },
  {
   "cell_type": "markdown",
   "metadata": {},
   "source": [
    "# LVC"
   ]
  },
  {
   "cell_type": "code",
   "execution_count": 8,
   "metadata": {},
   "outputs": [],
   "source": [
    "from utils_xml import modify_lvc_dates\n",
    "\n",
    "# Assuming you want to search in the test_events directory\n",
    "test_events_path = '../../test_events/'\n",
    "lvc_files = glob.glob(os.path.join(test_events_path, 'LVC*.xml'))"
   ]
  },
  {
   "cell_type": "code",
   "execution_count": 9,
   "metadata": {},
   "outputs": [
    {
     "data": {
      "text/plain": [
       "'<?xml version=\\'1.0\\' encoding=\\'UTF-8\\'?>\\n<voe:VOEvent xmlns:xsi=\"http://www.w3.org/2001/XMLSchema-instance\" xmlns:voe=\"http://www.ivoa.net/xml/VOEvent/v2.0\" xsi:schemaLocation=\"http://www.ivoa.net/xml/VOEvent/v2.0 http://www.ivoa.net/xml/VOEvent/VOEvent-v2.0.xsd\" version=\"2.0\" role=\"observation\" ivorn=\"ivo://gwnet/LVC#S230518h-1-Preliminary\">\\n  <Who>\\n    <Date>2024-11-29T10:50:44Z</Date>\\n    <Author>\\n      <contactName>LIGO Scientific Collaboration, Virgo Collaboration, and KAGRA Collaboration</contactName>\\n    </Author>\\n  </Who>\\n  <What>\\n    <Param name=\"Packet_Type\" value=\"150\" dataType=\"int\">\\n      <Description>The Notice Type number is assigned/used within GCN, eg type=150 is an LVC_PRELIMINARY notice</Description>\\n    </Param>\\n    <Param name=\"internal\" value=\"0\" dataType=\"int\">\\n      <Description>Indicates whether this event should be distributed to LSC/Virgo/KAGRA members only</Description>\\n    </Param>\\n    <Param name=\"Pkt_Ser_Num\" value=\"1\" dataType=\"int\">\\n      <Description>A number that increments by 1 each time a new revision is issued for this event</Description>\\n    </Param>\\n    <Param name=\"GraceID\" value=\"S230518h\" ucd=\"meta.id\" dataType=\"string\">\\n      <Description>Identifier in GraceDB</Description>\\n    </Param>\\n    <Param name=\"AlertType\" value=\"Preliminary\" ucd=\"meta.version\" dataType=\"string\">\\n      <Description>VOEvent alert type</Description>\\n    </Param>\\n    <Param name=\"HardwareInj\" value=\"0\" ucd=\"meta.number\" dataType=\"int\">\\n      <Description>Indicates that this event is a hardware injection if 1, no if 0</Description>\\n    </Param>\\n    <Param name=\"OpenAlert\" value=\"1\" ucd=\"meta.number\" dataType=\"int\">\\n      <Description>Indicates that this event is an open alert if 1, no if 0</Description>\\n    </Param>\\n    <Param name=\"EventPage\" value=\"https://gracedb.ligo.org/superevents/S230518h/view/\" ucd=\"meta.ref.url\" dataType=\"string\">\\n      <Description>Web page for evolving status of this GW candidate</Description>\\n    </Param>\\n    <Param name=\"Instruments\" value=\"H1,L1\" ucd=\"meta.code\" dataType=\"string\">\\n      <Description>List of instruments used in analysis to identify this event</Description>\\n    </Param>\\n    <Param name=\"FAR\" value=\"3.218261352069347e-10\" unit=\"Hz\" ucd=\"arith.rate;stat.falsealarm\" dataType=\"float\">\\n      <Description>False alarm rate for GW candidates with this strength or greater</Description>\\n    </Param>\\n    <Param name=\"Significant\" value=\"1\" ucd=\"meta.number\" dataType=\"int\">\\n      <Description>Indicates that this event is significant if 1, no if 0</Description>\\n    </Param>\\n    <Param name=\"Group\" value=\"CBC\" ucd=\"meta.code\" dataType=\"string\">\\n      <Description>Data analysis working group</Description>\\n    </Param>\\n    <Param name=\"Pipeline\" value=\"pycbc\" ucd=\"meta.code\" dataType=\"string\">\\n      <Description>Low-latency data analysis pipeline</Description>\\n    </Param>\\n    <Param name=\"Search\" value=\"AllSky\" ucd=\"meta.code\" dataType=\"string\">\\n      <Description>Specific low-latency search</Description>\\n    </Param>\\n    <Group name=\"GW_SKYMAP\" type=\"GW_SKYMAP\">\\n      <Param name=\"skymap_fits\" value=\"https://gracedb.ligo.org/api/superevents/S230518h/files/bayestar.multiorder.fits\" ucd=\"meta.ref.url\" dataType=\"string\">\\n        <Description>Sky Map FITS</Description>\\n      </Param>\\n    </Group>\\n    <Group name=\"Classification\" type=\"Classification\">\\n      <Param name=\"BNS\" value=\"0.0\" ucd=\"stat.probability\" dataType=\"float\">\\n        <Description>Probability that the source is a binary neutron star merger (both objects lighter than 3 solar masses)</Description>\\n      </Param>\\n      <Param name=\"NSBH\" value=\"0.8642645059209272\" ucd=\"stat.probability\" dataType=\"float\">\\n        <Description>Probability that the source is a neutron star-black merger (secondary lighter than 3 solar masses)</Description>\\n      </Param>\\n      <Param name=\"BBH\" value=\"0.036717034905487424\" ucd=\"stat.probability\" dataType=\"float\">\\n        <Description>Probability that the source is a binary black hole merger (both objects heavier than 3 solar masses)</Description>\\n      </Param>\\n      <Param name=\"Terrestrial\" value=\"0.09901845917358532\" ucd=\"stat.probability\" dataType=\"float\">\\n        <Description>Probability that the source is terrestrial (i.e., a background noise fluctuation or a glitch)</Description>\\n      </Param>\\n      <Description>Source classification: binary neutron star (BNS), neutron star-black hole (NSBH), binary black hole (BBH), or terrestrial (noise)</Description>\\n    </Group>\\n    <Group name=\"Properties\" type=\"Properties\">\\n      <Param name=\"HasNS\" value=\"1.0\" ucd=\"stat.probability\" dataType=\"float\">\\n        <Description>Probability that at least one object in the binary has a mass that is less than 3 solar masses</Description>\\n      </Param>\\n      <Param name=\"HasRemnant\" value=\"0.0\" ucd=\"stat.probability\" dataType=\"float\">\\n        <Description>Probability that a nonzero mass was ejected outside the central remnant object</Description>\\n      </Param>\\n      <Param name=\"HasMassGap\" value=\"0.0\" ucd=\"stat.probability\" dataType=\"float\">\\n        <Description>Probability that the source has at least one object between 3 and 5 solar masses</Description>\\n      </Param>\\n      <Description>Qualitative properties of the source, conditioned on the assumption that the signal is an astrophysical compact binary merger</Description>\\n    </Group>\\n  </What>\\n  <WhereWhen>\\n    <ObsDataLocation>\\n      <ObservatoryLocation id=\"LIGO Virgo\"/>\\n      <ObservationLocation>\\n        <AstroCoordSystem id=\"UTC-FK5-GEO\"/>\\n        <AstroCoords coord_system_id=\"UTC-FK5-GEO\">\\n          <Time unit=\"s\">\\n            <TimeInstant>\\n              <ISOTime>2024-11-29T10:50:44Z</ISOTime>\\n            </TimeInstant>\\n          </Time>\\n        </AstroCoords>\\n      </ObservationLocation>\\n    </ObsDataLocation>\\n  </WhereWhen>\\n  <Description>Report of a candidate gravitational wave event</Description>\\n  <How>\\n    <Description>Candidate gravitational wave event identified by low-latency analysis</Description>\\n    <Description>H1: LIGO Hanford 4 km gravitational wave detector</Description>\\n    <Description>L1: LIGO Livingston 4 km gravitational wave detector</Description>\\n  </How>\\n</voe:VOEvent>'"
      ]
     },
     "execution_count": 9,
     "metadata": {},
     "output_type": "execute_result"
    }
   ],
   "source": [
    "file_path = 'data/LVC_real_preliminary_new.xml'\n",
    "\n",
    "with open(file_path, 'r') as file:\n",
    "    xml_content = file.read()\n",
    "    \n",
    "xml_content"
   ]
  },
  {
   "cell_type": "code",
   "execution_count": 10,
   "metadata": {},
   "outputs": [],
   "source": [
    "# Example usage:\n",
    "\n",
    "new_date = datetime.now().strftime(\"%Y-%m-%dT%H:%M:%SZ\")\n",
    "updated_xml = modify_lvc_dates(xml_content, new_date)"
   ]
  },
  {
   "cell_type": "code",
   "execution_count": 11,
   "metadata": {},
   "outputs": [
    {
     "data": {
      "text/plain": [
       "'<voe:VOEvent xmlns:xsi=\"http://www.w3.org/2001/XMLSchema-instance\" xmlns:voe=\"http://www.ivoa.net/xml/VOEvent/v2.0\" xsi:schemaLocation=\"http://www.ivoa.net/xml/VOEvent/v2.0 http://www.ivoa.net/xml/VOEvent/VOEvent-v2.0.xsd\" version=\"2.0\" role=\"observation\" ivorn=\"ivo://gwnet/LVC#S230518h-1-Preliminary\">\\n  <Who>\\n    <Date>2024-11-29T05:07:07Z</Date>\\n    <Author>\\n      <contactName>LIGO Scientific Collaboration, Virgo Collaboration, and KAGRA Collaboration</contactName>\\n    </Author>\\n  </Who>\\n  <What>\\n    <Param name=\"Packet_Type\" value=\"150\" dataType=\"int\">\\n      <Description>The Notice Type number is assigned/used within GCN, eg type=150 is an LVC_PRELIMINARY notice</Description>\\n    </Param>\\n    <Param name=\"internal\" value=\"0\" dataType=\"int\">\\n      <Description>Indicates whether this event should be distributed to LSC/Virgo/KAGRA members only</Description>\\n    </Param>\\n    <Param name=\"Pkt_Ser_Num\" value=\"1\" dataType=\"int\">\\n      <Description>A number that increments by 1 each time a new revision is issued for this event</Description>\\n    </Param>\\n    <Param name=\"GraceID\" value=\"S230518h\" ucd=\"meta.id\" dataType=\"string\">\\n      <Description>Identifier in GraceDB</Description>\\n    </Param>\\n    <Param name=\"AlertType\" value=\"Preliminary\" ucd=\"meta.version\" dataType=\"string\">\\n      <Description>VOEvent alert type</Description>\\n    </Param>\\n    <Param name=\"HardwareInj\" value=\"0\" ucd=\"meta.number\" dataType=\"int\">\\n      <Description>Indicates that this event is a hardware injection if 1, no if 0</Description>\\n    </Param>\\n    <Param name=\"OpenAlert\" value=\"1\" ucd=\"meta.number\" dataType=\"int\">\\n      <Description>Indicates that this event is an open alert if 1, no if 0</Description>\\n    </Param>\\n    <Param name=\"EventPage\" value=\"https://gracedb.ligo.org/superevents/S230518h/view/\" ucd=\"meta.ref.url\" dataType=\"string\">\\n      <Description>Web page for evolving status of this GW candidate</Description>\\n    </Param>\\n    <Param name=\"Instruments\" value=\"H1,L1\" ucd=\"meta.code\" dataType=\"string\">\\n      <Description>List of instruments used in analysis to identify this event</Description>\\n    </Param>\\n    <Param name=\"FAR\" value=\"3.218261352069347e-10\" unit=\"Hz\" ucd=\"arith.rate;stat.falsealarm\" dataType=\"float\">\\n      <Description>False alarm rate for GW candidates with this strength or greater</Description>\\n    </Param>\\n    <Param name=\"Significant\" value=\"1\" ucd=\"meta.number\" dataType=\"int\">\\n      <Description>Indicates that this event is significant if 1, no if 0</Description>\\n    </Param>\\n    <Param name=\"Group\" value=\"CBC\" ucd=\"meta.code\" dataType=\"string\">\\n      <Description>Data analysis working group</Description>\\n    </Param>\\n    <Param name=\"Pipeline\" value=\"pycbc\" ucd=\"meta.code\" dataType=\"string\">\\n      <Description>Low-latency data analysis pipeline</Description>\\n    </Param>\\n    <Param name=\"Search\" value=\"AllSky\" ucd=\"meta.code\" dataType=\"string\">\\n      <Description>Specific low-latency search</Description>\\n    </Param>\\n    <Group name=\"GW_SKYMAP\" type=\"GW_SKYMAP\">\\n      <Param name=\"skymap_fits\" value=\"https://gracedb.ligo.org/api/superevents/S230518h/files/bayestar.multiorder.fits\" ucd=\"meta.ref.url\" dataType=\"string\">\\n        <Description>Sky Map FITS</Description>\\n      </Param>\\n    </Group>\\n    <Group name=\"Classification\" type=\"Classification\">\\n      <Param name=\"BNS\" value=\"0.0\" ucd=\"stat.probability\" dataType=\"float\">\\n        <Description>Probability that the source is a binary neutron star merger (both objects lighter than 3 solar masses)</Description>\\n      </Param>\\n      <Param name=\"NSBH\" value=\"0.8642645059209272\" ucd=\"stat.probability\" dataType=\"float\">\\n        <Description>Probability that the source is a neutron star-black merger (secondary lighter than 3 solar masses)</Description>\\n      </Param>\\n      <Param name=\"BBH\" value=\"0.036717034905487424\" ucd=\"stat.probability\" dataType=\"float\">\\n        <Description>Probability that the source is a binary black hole merger (both objects heavier than 3 solar masses)</Description>\\n      </Param>\\n      <Param name=\"Terrestrial\" value=\"0.09901845917358532\" ucd=\"stat.probability\" dataType=\"float\">\\n        <Description>Probability that the source is terrestrial (i.e., a background noise fluctuation or a glitch)</Description>\\n      </Param>\\n      <Description>Source classification: binary neutron star (BNS), neutron star-black hole (NSBH), binary black hole (BBH), or terrestrial (noise)</Description>\\n    </Group>\\n    <Group name=\"Properties\" type=\"Properties\">\\n      <Param name=\"HasNS\" value=\"1.0\" ucd=\"stat.probability\" dataType=\"float\">\\n        <Description>Probability that at least one object in the binary has a mass that is less than 3 solar masses</Description>\\n      </Param>\\n      <Param name=\"HasRemnant\" value=\"0.0\" ucd=\"stat.probability\" dataType=\"float\">\\n        <Description>Probability that a nonzero mass was ejected outside the central remnant object</Description>\\n      </Param>\\n      <Param name=\"HasMassGap\" value=\"0.0\" ucd=\"stat.probability\" dataType=\"float\">\\n        <Description>Probability that the source has at least one object between 3 and 5 solar masses</Description>\\n      </Param>\\n      <Description>Qualitative properties of the source, conditioned on the assumption that the signal is an astrophysical compact binary merger</Description>\\n    </Group>\\n  </What>\\n  <WhereWhen>\\n    <ObsDataLocation>\\n      <ObservatoryLocation id=\"LIGO Virgo\"/>\\n      <ObservationLocation>\\n        <AstroCoordSystem id=\"UTC-FK5-GEO\"/>\\n        <AstroCoords coord_system_id=\"UTC-FK5-GEO\">\\n          <Time unit=\"s\">\\n            <TimeInstant>\\n              <ISOTime>2024-11-29T05:07:07Z</ISOTime>\\n            </TimeInstant>\\n          </Time>\\n        </AstroCoords>\\n      </ObservationLocation>\\n    </ObsDataLocation>\\n  </WhereWhen>\\n  <Description>Report of a candidate gravitational wave event</Description>\\n  <How>\\n    <Description>Candidate gravitational wave event identified by low-latency analysis</Description>\\n    <Description>H1: LIGO Hanford 4 km gravitational wave detector</Description>\\n    <Description>L1: LIGO Livingston 4 km gravitational wave detector</Description>\\n  </How>\\n</voe:VOEvent>\\n'"
      ]
     },
     "execution_count": 11,
     "metadata": {},
     "output_type": "execute_result"
    }
   ],
   "source": [
    "updated_xml"
   ]
  },
  {
   "cell_type": "code",
   "execution_count": 12,
   "metadata": {},
   "outputs": [
    {
     "data": {
      "text/plain": [
       "201"
      ]
     },
     "execution_count": 12,
     "metadata": {},
     "output_type": "execute_result"
    }
   ],
   "source": [
    "response = write_and_upload(updated_xml)\n",
    "response.status_code\n"
   ]
  },
  {
   "cell_type": "markdown",
   "metadata": {},
   "source": [
    "# Working with JSON files. "
   ]
  },
  {
   "cell_type": "code",
   "execution_count": 76,
   "metadata": {},
   "outputs": [],
   "source": [
    "import json\n",
    "from pathlib import Path"
   ]
  },
  {
   "cell_type": "code",
   "execution_count": 77,
   "metadata": {},
   "outputs": [],
   "source": [
    "context_logs_dir = Path(\"../prop_api/data/context_logs\")\n",
    "\n",
    "# Choose a file to load (for example, the first one)\n",
    "context_files = list(context_logs_dir.glob(\"prop*.json\"))"
   ]
  },
  {
   "cell_type": "code",
   "execution_count": 78,
   "metadata": {},
   "outputs": [
    {
     "data": {
      "text/plain": [
       "[PosixPath('../prop_api/data/context_logs/prop_atca_test_grb_worth_observing_context_20241129_052142.json')]"
      ]
     },
     "execution_count": 78,
     "metadata": {},
     "output_type": "execute_result"
    }
   ],
   "source": [
    "context_files"
   ]
  },
  {
   "cell_type": "code",
   "execution_count": 86,
   "metadata": {},
   "outputs": [],
   "source": [
    "from typing import List, Optional\n",
    "from typing import List, Optional, Dict, Any\n",
    "from pydantic import BaseModel\n",
    "from astropy.coordinates import SkyCoord\n",
    "from propsettings_app.schemas import (\n",
    "    EventSchema,\n",
    "    ProposalDecisionSchema,\n",
    "    EventGroupSchema,\n",
    "    ProposalDecision,\n",
    "    SkyCoordSchema\n",
    ")\n",
    "\n",
    "from proposalsettings.models.prop_atca_test_grb.models import ProposalAtcaTestGrb\n",
    "from proposalsettings.models.proposal import ProposalSettings\n",
    "\n",
    "class ProposalDecision(BaseModel):\n",
    "    id: int\n",
    "    decision: str\n",
    "    decision_reason: str\n",
    "    proposal: ProposalAtcaTestGrb  # please remember that this model is used for the context data not(parent ProposalSettings)\n",
    "    event_group_id: EventGroupSchema\n",
    "    trig_id: str\n",
    "    duration: float\n",
    "    ra: float\n",
    "    dec: float\n",
    "    alt: None\n",
    "    az: None\n",
    "    ra_hms: str\n",
    "    dec_dms: str\n",
    "    pos_error: float\n",
    "    recieved_data: str\n",
    "    "
   ]
  },
  {
   "cell_type": "code",
   "execution_count": 87,
   "metadata": {},
   "outputs": [
    {
     "data": {
      "text/plain": [
       "PosixPath('../prop_api/data/context_logs/prop_atca_test_grb_worth_observing_context_20241129_052142.json')"
      ]
     },
     "execution_count": 87,
     "metadata": {},
     "output_type": "execute_result"
    }
   ],
   "source": [
    "context_files[0]"
   ]
  },
  {
   "cell_type": "code",
   "execution_count": 88,
   "metadata": {},
   "outputs": [
    {
     "name": "stdout",
     "output_type": "stream",
     "text": [
      "Loading context from: ../prop_api/data/context_logs/prop_atca_test_grb_worth_observing_context_20241129_052142.json\n",
      "\n",
      "Parsed context data:\n"
     ]
    }
   ],
   "source": [
    "if context_files:\n",
    "    context_file = context_files[0]\n",
    "    print(f\"Loading context from: {context_file}\")\n",
    "\n",
    "    # Read the JSON file\n",
    "    with open(context_file, 'r') as f:\n",
    "        context = json.load(f)\n",
    "\n",
    "    # Parse the JSON data into a Pydantic model\n",
    "    try:\n",
    "        # Parse the JSON data into a Pydantic model\n",
    "        event_pyd = EventSchema(**context['event'])\n",
    "        prop_dec_pyd = ProposalDecision(**context[\"prop_dec\"])\n",
    "        event_group_pyd = EventGroupSchema(**context[\"event_group\"])\n",
    "        voevents_pyd = [EventSchema(**voevent) for voevent in context['voevents']]\n",
    "\n",
    "        if context['event_coord']:\n",
    "            event_coord = SkyCoordSchema(**context.event_coord.dict()).to_skycoord()\n",
    "        else:\n",
    "            event_coord = None\n",
    "    \n",
    "        context['event_coord'] = event_coord\n",
    "        context['voevents'] = voevents_pyd\n",
    "        context['event_group'] = event_group_pyd\n",
    "        context['prop_dec'] = prop_dec_pyd\n",
    "        context['event'] = event_pyd\n",
    "        \n",
    "        print(\"\\nParsed context data:\")\n",
    "        \n",
    "    except Exception as e:\n",
    "        print(\"Validation error:\", e)\n",
    "        print(\"Error details:\", e.errors())\n",
    "    \n",
    "else:\n",
    "    print(\"No context files found.\")\n",
    "    "
   ]
  },
  {
   "cell_type": "markdown",
   "metadata": {},
   "source": [
    "Here keys of the context dictionary: "
   ]
  },
  {
   "cell_type": "code",
   "execution_count": 89,
   "metadata": {},
   "outputs": [
    {
     "data": {
      "text/plain": [
       "{'event': EventSchema(id=572016, event_group_id=EventGroupSchema(id=174946, trig_id='1351314', earliest_event_observed=datetime.datetime(2024, 11, 29, 5, 21, 39, 32272, tzinfo=TzInfo(UTC)), latest_event_observed=datetime.datetime(2024, 11, 29, 5, 21, 39, 32272, tzinfo=TzInfo(UTC)), ra=18.4033, dec=44.4885, ra_hms='1:13:36.792', dec_dms='44:29:18.6', pos_error=0.05, recieved_data=datetime.datetime(2024, 11, 29, 5, 21, 42, 403760, tzinfo=TzInfo(UTC)), source_type='GRB', ignored=True, event_observed=None, source_name='GRB 230228'), trig_id='1351314', self_generated_trig_id=False, telescope='SWIFT', sequence_num=None, event_type='BAT_GRB_Pos', role='observation', duration=1.024, ra=18.4033, dec=44.4885, ra_hms='1:13:36.792', dec_dms='44:29:18.6', pos_error=0.05, recieved_data=datetime.datetime(2024, 11, 29, 5, 21, 42, 398276, tzinfo=TzInfo(UTC)), event_observed=datetime.datetime(2024, 11, 29, 5, 21, 39, 32272, tzinfo=TzInfo(UTC)), xml_packet='<VOEvent xmlns:xsi=\"http://www.w3.org/2001/XMLSchema-instance\" ivorn=\"ivo://nasa.gsfc.gcn/SWIFT#BAT_GRB_Pos_1156572-727\" role=\"observation\" version=\"2.0\" xsi:schemaLocation=\"http://www.ivoa.net/xml/VOEvent/v2.0 http://www.ivoa.net/xml/VOEvent/VOEvent-v2.0.xsd\">\\n    <Who>\\n        <AuthorIVORN>ivo://nasa.gsfc.tan/gcn</AuthorIVORN>\\n        <Author>\\n            <shortName>VO-GCN</shortName>\\n            <contactName>Scott Barthelmy</contactName>\\n            <contactPhone>+1-301-286-3106</contactPhone>\\n            <contactEmail>scott.barthelmy@nasa.gov</contactEmail>\\n        </Author>\\n        <Date>2024-11-29T05:21:39</Date>\\n        <Description>This VOEvent message was created with GCN VOE version: 15.08 17jun22</Description>\\n    </Who>\\n    <What>\\n        <Param name=\"Packet_Type\" value=\"61\"/>\\n        <Param name=\"Pkt_Ser_Num\" value=\"2\"/>\\n        <Param name=\"TrigID\" value=\"1351314\" ucd=\"meta.id\"/>\\n        <Param name=\"Segment_Num\" value=\"0\" ucd=\"meta.id.part\"/>\\n        <Param name=\"Burst_TJD\" value=\"20003\" unit=\"days\" ucd=\"time\"/>\\n        <Param name=\"Burst_SOD\" value=\"21050.25\" unit=\"sec\" ucd=\"time\"/>\\n        <Param name=\"Burst_Inten\" value=\"1935\" unit=\"cts\" ucd=\"phot.count;em.gamma.soft\"/>\\n        <Param name=\"Burst_Peak\" value=\"210\" unit=\"cts\" ucd=\"phot.count;em.gamma.soft\"/>\\n        <Param name=\"Integ_Time\" value=\"1.024\" unit=\"sec\" ucd=\"time.interval\"/>\\n        <Param name=\"Phi\" value=\"177.68\" unit=\"deg\" ucd=\"pos.az.azi\"/>\\n        <Param name=\"Theta\" value=\"30.83\" unit=\"deg\" ucd=\"pos.az.zd\"/>\\n        <Param name=\"Trig_Index\" value=\"146\"/>\\n        <Param name=\"Soln_Status\" value=\"0x3\"/>\\n        <Param name=\"Misc_flags\" value=\"0x0\"/>\\n        <Param name=\"Cat_Num\" value=\"0\"/>\\n        <Param name=\"Rate_Signif\" value=\"25.03\" unit=\"sigma\" ucd=\"stat.snr\"/>\\n        <Param name=\"Image_Signif\" value=\"11.96\" unit=\"sigma\" ucd=\"stat.snr\"/>\\n        <Param name=\"Bkg_Inten\" value=\"8315\" unit=\"cts\" ucd=\"phot.count\"/>\\n        <Param name=\"Bkg_Time\" value=\"05:50:33.16\" ucd=\"time.start\"/>\\n        <Param name=\"Bkg_Dur\" value=\"8.00\" unit=\"sec\" ucd=\"time.duration\"/>\\n        <Param name=\"SC_Long\" value=\"91.38\" unit=\"deg\" ucd=\"pos.earth.lon\"/>\\n        <Param name=\"SC_Lat\" value=\"8.91\" unit=\"deg\" ucd=\"pos.earth.lat\"/>\\n        <Group name=\"Merit_Values\">\\n            <Param name=\"Merit_Val0\" value=\"1\" unit=\"dn\"/>\\n            <Param name=\"Merit_Val1\" value=\"0\" unit=\"dn\"/>\\n            <Param name=\"Merit_Val2\" value=\"0\" unit=\"dn\"/>\\n            <Param name=\"Merit_Val3\" value=\"0\" unit=\"dn\"/>\\n            <Param name=\"Merit_Val4\" value=\"2\" unit=\"dn\"/>\\n            <Param name=\"Merit_Val5\" value=\"1\" unit=\"dn\"/>\\n            <Param name=\"Merit_Val6\" value=\"0\" unit=\"dn\"/>\\n            <Param name=\"Merit_Val7\" value=\"0\" unit=\"dn\"/>\\n            <Param name=\"Merit_Val8\" value=\"-46\" unit=\"dn\"/>\\n            <Param name=\"Merit_Val9\" value=\"0\" unit=\"dn\"/>\\n        </Group>\\n        <Group name=\"Solution_Status\">\\n            <Param name=\"Point_Source\" value=\"true\"/>\\n            <Param name=\"GRB_Identified\" value=\"true\"/>\\n            <Param name=\"Target_of_Interest\" value=\"false\"/>\\n            <Param name=\"Target_Imag_Trig\" value=\"false\"/>\\n            <Param name=\"Target_Rate_Trig\" value=\"true\"/>\\n            <Param name=\"Def_NOT_a_GRB\" value=\"false\"/>\\n            <Param name=\"Hi_Bkg_Level\" value=\"false\"/>\\n            <Param name=\"Neg_Bkg_Slope\" value=\"false\"/>\\n            <Param name=\"Lo_Image_Signif\" value=\"false\"/>\\n            <Param name=\"VERY_Lo_Image_Signif\" value=\"false\"/>\\n            <Param name=\"Target_in_Flt_Catalog\" value=\"false\"/>\\n            <Param name=\"Target_in_Gnd_Catalog\" value=\"false\"/>\\n            <Param name=\"Target_in_Blk_Catalog\" value=\"false\"/>\\n            <Param name=\"StarTrack_Lost_Lock\" value=\"false\"/>\\n            <Param name=\"Near_Bright_Star\" value=\"false\"/>\\n            <Param name=\"Src_Removed_from_OnBoard\" value=\"false\"/>\\n            <Param name=\"Converted_SubThresh\" value=\"false\"/>\\n            <Param name=\"Spatial_Prox_Match\" value=\"false\"/>\\n            <Param name=\"Temporal_Prox_Match\" value=\"false\"/>\\n            <Param name=\"Test_Submission\" value=\"false\"/>\\n        </Group>\\n        <Group name=\"Misc_Flags\">\\n            <Param name=\"Values_Out_of_Range\" value=\"false\"/>\\n            <Param name=\"Already_Observing_Position\" value=\"false\"/>\\n            <Param name=\"Near_Bright_Star\" value=\"false\"/>\\n            <Param name=\"Err_Circle_in_Galaxy\" value=\"false\"/>\\n            <Param name=\"Galaxy_in_Err_Circle\" value=\"false\"/>\\n            <Param name=\"ImTrig_during_ST_LoL\" value=\"false\"/>\\n            <Param name=\"TOO_Generated\" value=\"false\"/>\\n            <Param name=\"Trig_time_is_SecHdrTime\" value=\"false\"/>\\n            <Param name=\"Delayed_Transmission\" value=\"false\"/>\\n            <Param name=\"Updated_Notice\" value=\"false\"/>\\n            <Param name=\"Flt_Generated\" value=\"true\"/>\\n            <Param name=\"Gnd_Generated\" value=\"false\"/>\\n            <Param name=\"SERS_Generated\" value=\"false\"/>\\n            <Param name=\"Other_Generated\" value=\"false\"/>\\n            <Param name=\"CRC_Error\" value=\"false\"/>\\n        </Group>\\n        <Param name=\"Coords_Type\" value=\"1\" unit=\"dn\"/>\\n        <Param name=\"Coords_String\" value=\"source_object\"/>\\n        <Group name=\"Obs_Support_Info\">\\n            <Description>The Sun and Moon values are valid at the time the VOEvent XML message was created.</Description>\\n            <Param name=\"Sun_RA\" value=\"340.95\" unit=\"deg\" ucd=\"pos.eq.ra\"/>\\n            <Param name=\"Sun_Dec\" value=\"-8.05\" unit=\"deg\" ucd=\"pos.eq.dec\"/>\\n            <Param name=\"Sun_Distance\" value=\"62.70\" unit=\"deg\" ucd=\"pos.angDistance\"/>\\n            <Param name=\"Sun_Hr_Angle\" value=\"-2.52\" unit=\"hr\"/>\\n            <Param name=\"Moon_RA\" value=\"78.33\" unit=\"deg\" ucd=\"pos.eq.ra\"/>\\n            <Param name=\"Moon_Dec\" value=\"26.53\" unit=\"deg\" ucd=\"pos.eq.dec\"/>\\n            <Param name=\"MOON_Distance\" value=\"50.50\" unit=\"deg\" ucd=\"pos.angDistance\"/>\\n            <Param name=\"Moon_Illum\" value=\"59.03\" unit=\"%\" ucd=\"arith.ratio\"/>\\n            <Param name=\"Galactic_Long\" value=\"127.09\" unit=\"deg\" ucd=\"pos.galactic.lon\"/>\\n            <Param name=\"Galactic_Lat\" value=\"-18.20\" unit=\"deg\" ucd=\"pos.galactic.lat\"/>\\n            <Param name=\"Ecliptic_Long\" value=\"35.64\" unit=\"deg\" ucd=\"pos.ecliptic.lon\"/>\\n            <Param name=\"Ecliptic_Lat\" value=\"33.60\" unit=\"deg\" ucd=\"pos.ecliptic.lat\"/>\\n        </Group>\\n        <Description>Type=61: The Swift-BAT instrument position notice.</Description>\\n    </What>\\n    <WhereWhen>\\n        <ObsDataLocation>\\n            <ObservatoryLocation id=\"GEOLUN\"/>\\n            <ObservationLocation>\\n                <AstroCoordSystem id=\"UTC-FK5-GEO\"/>\\n                <AstroCoords coord_system_id=\"UTC-FK5-GEO\">\\n                    <Time unit=\"s\">\\n                        <TimeInstant>\\n                            <ISOTime>2024-11-29T05:21:39.032272</ISOTime>\\n                        </TimeInstant>\\n                    </Time>\\n                    <Position2D unit=\"deg\">\\n                        <Name1>RA</Name1>\\n                        <Name2>Dec</Name2>\\n                        <Value2>\\n                            <C1>18.4033</C1>\\n                            <C2>44.4885</C2>\\n                        </Value2>\\n                        <Error2Radius>0.0500</Error2Radius>\\n                    </Position2D>\\n                </AstroCoords>\\n            </ObservationLocation>\\n        </ObsDataLocation>\\n        <Description>The RA,Dec coordinates are of the type: source_object.</Description>\\n    </WhereWhen>\\n    <How>\\n        <Description>Swift Satellite, BAT Instrument</Description>\\n        <Reference uri=\"http://gcn.gsfc.nasa.gov/swift.html\" type=\"url\"/>\\n    </How>\\n    <Why importance=\"0.90\">\\n        <Inference probability=\"0.90\">\\n            <Name>GRB 230228</Name>\\n            <Concept>process.variation.burst;em.gamma</Concept>\\n        </Inference>\\n    </Why>\\n    <Description>\\n  </Description>\\n    <original_prefix>voe</original_prefix>\\n</VOEvent>', ignored=False, source_name='GRB 230228', source_type='GRB', fermi_most_likely_index=None, fermi_detection_prob=None, swift_rate_signif=25.03, antares_ranking=None, hess_significance=None, lvc_false_alarm_rate=None, lvc_significant=False, lvc_event_url=None, lvc_binary_neutron_star_probability=None, lvc_neutron_star_black_hole_probability=None, lvc_binary_black_hole_probability=None, lvc_terrestial_probability=None, lvc_includes_neutron_star_probability=None, lvc_retraction_message=None, lvc_skymap_fits=None, lvc_prob_density_tile=None, lvc_skymap_file=None, lvc_instruments=None),\n",
       " 'prop_dec': ProposalDecision(id=83713, decision='P', decision_reason='2024-11-29 05:21:42.417512+00:00: Event ID 572016: Beginning event analysis. \\n', proposal=ProposalAtcaTestGrb(id=20, streams=['SWIFT_BAT_GRB_POS'], version='1.0.0', project_id=TelescopeProjectId(id='C3542', password='password4', description='Token for ATCA Long GRB triggering program 2024APR', atca_email='batbold.sangi@curtin.edu.au', telescope=Telescope(name='ATCA', lon=149.550278, lat=-30.312778, height=237.0)), event_telescope=EventTelescope(name='SWIFT'), proposal_id='ATCA_test_GRB', proposal_description='This is the triggering proposal for the testing', priority=1, testing=<TriggerOnChoices.REAL_ONLY: 'REAL_ONLY'>, source_type=<SourceChoices.GRB: 'GRB'>, telescope_settings=ATCATelescopeSettings(telescope=Telescope(name='ATCA', lon=149.550278, lat=-30.312778, height=237.0), maximum_observation_time_seconds=0, event_any_duration=False, event_min_duration=0.256, event_max_duration=1.024, pending_min_duration_1=1.025, pending_max_duration_1=2.056, pending_min_duration_2=0.128, pending_max_duration_2=0.255, maximum_position_uncertainty=0.05, fermi_prob=50.0, swift_rate_signif=0.0, antares_min_ranking=2, repointing_limit=10.0, observe_significant=False, atca_band_3mm=False, atca_band_3mm_exptime=60, atca_band_3mm_freq1=None, atca_band_3mm_freq2=None, atca_band_7mm=False, atca_band_7mm_exptime=60, atca_band_7mm_freq1=None, atca_band_7mm_freq2=None, atca_band_15mm=False, atca_band_15mm_exptime=60, atca_band_15mm_freq1=None, atca_band_15mm_freq2=None, atca_band_4cm=False, atca_band_4cm_exptime=60, atca_band_4cm_freq1=None, atca_band_4cm_freq2=None, atca_band_16cm=False, atca_band_16cm_exptime=60, atca_max_exptime=720, atca_min_exptime=30, atca_prioritise_source=False, atca_dec_min_1=-90, atca_dec_max_1=-5, atca_dec_min_2=5, atca_dec_max_2=20)), event_group_id=EventGroupSchema(id=174946, trig_id='1351314', earliest_event_observed=datetime.datetime(2024, 11, 29, 5, 21, 39, 32272, tzinfo=TzInfo(UTC)), latest_event_observed=datetime.datetime(2024, 11, 29, 5, 21, 39, 32272, tzinfo=TzInfo(UTC)), ra=18.4033, dec=44.4885, ra_hms='1:13:36.792', dec_dms='44:29:18.6', pos_error=0.05, recieved_data=datetime.datetime(2024, 11, 29, 5, 21, 42, 403760, tzinfo=TzInfo(UTC)), source_type='GRB', ignored=True, event_observed=None, source_name='GRB 230228'), trig_id='1351314', duration=1.024, ra=18.4033, dec=44.4885, alt=None, az=None, ra_hms='1:13:36.792', dec_dms='44:29:18.6', pos_error=0.05, recieved_data='2024-11-29 05:21:42.417649+00:00'),\n",
       " 'voevents': [EventSchema(id=572016, event_group_id=EventGroupSchema(id=174946, trig_id='1351314', earliest_event_observed=datetime.datetime(2024, 11, 29, 5, 21, 39, 32272, tzinfo=TzInfo(UTC)), latest_event_observed=datetime.datetime(2024, 11, 29, 5, 21, 39, 32272, tzinfo=TzInfo(UTC)), ra=18.4033, dec=44.4885, ra_hms='1:13:36.792', dec_dms='44:29:18.6', pos_error=0.05, recieved_data=datetime.datetime(2024, 11, 29, 5, 21, 42, 403760, tzinfo=TzInfo(UTC)), source_type='GRB', ignored=True, event_observed=None, source_name='GRB 230228'), trig_id='1351314', self_generated_trig_id=False, telescope='SWIFT', sequence_num=None, event_type='BAT_GRB_Pos', role='observation', duration=1.024, ra=18.4033, dec=44.4885, ra_hms='1:13:36.792', dec_dms='44:29:18.6', pos_error=0.05, recieved_data=datetime.datetime(2024, 11, 29, 5, 21, 42, 398276, tzinfo=TzInfo(UTC)), event_observed=datetime.datetime(2024, 11, 29, 5, 21, 39, 32272, tzinfo=TzInfo(UTC)), xml_packet='<VOEvent xmlns:xsi=\"http://www.w3.org/2001/XMLSchema-instance\" ivorn=\"ivo://nasa.gsfc.gcn/SWIFT#BAT_GRB_Pos_1156572-727\" role=\"observation\" version=\"2.0\" xsi:schemaLocation=\"http://www.ivoa.net/xml/VOEvent/v2.0 http://www.ivoa.net/xml/VOEvent/VOEvent-v2.0.xsd\">\\n    <Who>\\n        <AuthorIVORN>ivo://nasa.gsfc.tan/gcn</AuthorIVORN>\\n        <Author>\\n            <shortName>VO-GCN</shortName>\\n            <contactName>Scott Barthelmy</contactName>\\n            <contactPhone>+1-301-286-3106</contactPhone>\\n            <contactEmail>scott.barthelmy@nasa.gov</contactEmail>\\n        </Author>\\n        <Date>2024-11-29T05:21:39</Date>\\n        <Description>This VOEvent message was created with GCN VOE version: 15.08 17jun22</Description>\\n    </Who>\\n    <What>\\n        <Param name=\"Packet_Type\" value=\"61\"/>\\n        <Param name=\"Pkt_Ser_Num\" value=\"2\"/>\\n        <Param name=\"TrigID\" value=\"1351314\" ucd=\"meta.id\"/>\\n        <Param name=\"Segment_Num\" value=\"0\" ucd=\"meta.id.part\"/>\\n        <Param name=\"Burst_TJD\" value=\"20003\" unit=\"days\" ucd=\"time\"/>\\n        <Param name=\"Burst_SOD\" value=\"21050.25\" unit=\"sec\" ucd=\"time\"/>\\n        <Param name=\"Burst_Inten\" value=\"1935\" unit=\"cts\" ucd=\"phot.count;em.gamma.soft\"/>\\n        <Param name=\"Burst_Peak\" value=\"210\" unit=\"cts\" ucd=\"phot.count;em.gamma.soft\"/>\\n        <Param name=\"Integ_Time\" value=\"1.024\" unit=\"sec\" ucd=\"time.interval\"/>\\n        <Param name=\"Phi\" value=\"177.68\" unit=\"deg\" ucd=\"pos.az.azi\"/>\\n        <Param name=\"Theta\" value=\"30.83\" unit=\"deg\" ucd=\"pos.az.zd\"/>\\n        <Param name=\"Trig_Index\" value=\"146\"/>\\n        <Param name=\"Soln_Status\" value=\"0x3\"/>\\n        <Param name=\"Misc_flags\" value=\"0x0\"/>\\n        <Param name=\"Cat_Num\" value=\"0\"/>\\n        <Param name=\"Rate_Signif\" value=\"25.03\" unit=\"sigma\" ucd=\"stat.snr\"/>\\n        <Param name=\"Image_Signif\" value=\"11.96\" unit=\"sigma\" ucd=\"stat.snr\"/>\\n        <Param name=\"Bkg_Inten\" value=\"8315\" unit=\"cts\" ucd=\"phot.count\"/>\\n        <Param name=\"Bkg_Time\" value=\"05:50:33.16\" ucd=\"time.start\"/>\\n        <Param name=\"Bkg_Dur\" value=\"8.00\" unit=\"sec\" ucd=\"time.duration\"/>\\n        <Param name=\"SC_Long\" value=\"91.38\" unit=\"deg\" ucd=\"pos.earth.lon\"/>\\n        <Param name=\"SC_Lat\" value=\"8.91\" unit=\"deg\" ucd=\"pos.earth.lat\"/>\\n        <Group name=\"Merit_Values\">\\n            <Param name=\"Merit_Val0\" value=\"1\" unit=\"dn\"/>\\n            <Param name=\"Merit_Val1\" value=\"0\" unit=\"dn\"/>\\n            <Param name=\"Merit_Val2\" value=\"0\" unit=\"dn\"/>\\n            <Param name=\"Merit_Val3\" value=\"0\" unit=\"dn\"/>\\n            <Param name=\"Merit_Val4\" value=\"2\" unit=\"dn\"/>\\n            <Param name=\"Merit_Val5\" value=\"1\" unit=\"dn\"/>\\n            <Param name=\"Merit_Val6\" value=\"0\" unit=\"dn\"/>\\n            <Param name=\"Merit_Val7\" value=\"0\" unit=\"dn\"/>\\n            <Param name=\"Merit_Val8\" value=\"-46\" unit=\"dn\"/>\\n            <Param name=\"Merit_Val9\" value=\"0\" unit=\"dn\"/>\\n        </Group>\\n        <Group name=\"Solution_Status\">\\n            <Param name=\"Point_Source\" value=\"true\"/>\\n            <Param name=\"GRB_Identified\" value=\"true\"/>\\n            <Param name=\"Target_of_Interest\" value=\"false\"/>\\n            <Param name=\"Target_Imag_Trig\" value=\"false\"/>\\n            <Param name=\"Target_Rate_Trig\" value=\"true\"/>\\n            <Param name=\"Def_NOT_a_GRB\" value=\"false\"/>\\n            <Param name=\"Hi_Bkg_Level\" value=\"false\"/>\\n            <Param name=\"Neg_Bkg_Slope\" value=\"false\"/>\\n            <Param name=\"Lo_Image_Signif\" value=\"false\"/>\\n            <Param name=\"VERY_Lo_Image_Signif\" value=\"false\"/>\\n            <Param name=\"Target_in_Flt_Catalog\" value=\"false\"/>\\n            <Param name=\"Target_in_Gnd_Catalog\" value=\"false\"/>\\n            <Param name=\"Target_in_Blk_Catalog\" value=\"false\"/>\\n            <Param name=\"StarTrack_Lost_Lock\" value=\"false\"/>\\n            <Param name=\"Near_Bright_Star\" value=\"false\"/>\\n            <Param name=\"Src_Removed_from_OnBoard\" value=\"false\"/>\\n            <Param name=\"Converted_SubThresh\" value=\"false\"/>\\n            <Param name=\"Spatial_Prox_Match\" value=\"false\"/>\\n            <Param name=\"Temporal_Prox_Match\" value=\"false\"/>\\n            <Param name=\"Test_Submission\" value=\"false\"/>\\n        </Group>\\n        <Group name=\"Misc_Flags\">\\n            <Param name=\"Values_Out_of_Range\" value=\"false\"/>\\n            <Param name=\"Already_Observing_Position\" value=\"false\"/>\\n            <Param name=\"Near_Bright_Star\" value=\"false\"/>\\n            <Param name=\"Err_Circle_in_Galaxy\" value=\"false\"/>\\n            <Param name=\"Galaxy_in_Err_Circle\" value=\"false\"/>\\n            <Param name=\"ImTrig_during_ST_LoL\" value=\"false\"/>\\n            <Param name=\"TOO_Generated\" value=\"false\"/>\\n            <Param name=\"Trig_time_is_SecHdrTime\" value=\"false\"/>\\n            <Param name=\"Delayed_Transmission\" value=\"false\"/>\\n            <Param name=\"Updated_Notice\" value=\"false\"/>\\n            <Param name=\"Flt_Generated\" value=\"true\"/>\\n            <Param name=\"Gnd_Generated\" value=\"false\"/>\\n            <Param name=\"SERS_Generated\" value=\"false\"/>\\n            <Param name=\"Other_Generated\" value=\"false\"/>\\n            <Param name=\"CRC_Error\" value=\"false\"/>\\n        </Group>\\n        <Param name=\"Coords_Type\" value=\"1\" unit=\"dn\"/>\\n        <Param name=\"Coords_String\" value=\"source_object\"/>\\n        <Group name=\"Obs_Support_Info\">\\n            <Description>The Sun and Moon values are valid at the time the VOEvent XML message was created.</Description>\\n            <Param name=\"Sun_RA\" value=\"340.95\" unit=\"deg\" ucd=\"pos.eq.ra\"/>\\n            <Param name=\"Sun_Dec\" value=\"-8.05\" unit=\"deg\" ucd=\"pos.eq.dec\"/>\\n            <Param name=\"Sun_Distance\" value=\"62.70\" unit=\"deg\" ucd=\"pos.angDistance\"/>\\n            <Param name=\"Sun_Hr_Angle\" value=\"-2.52\" unit=\"hr\"/>\\n            <Param name=\"Moon_RA\" value=\"78.33\" unit=\"deg\" ucd=\"pos.eq.ra\"/>\\n            <Param name=\"Moon_Dec\" value=\"26.53\" unit=\"deg\" ucd=\"pos.eq.dec\"/>\\n            <Param name=\"MOON_Distance\" value=\"50.50\" unit=\"deg\" ucd=\"pos.angDistance\"/>\\n            <Param name=\"Moon_Illum\" value=\"59.03\" unit=\"%\" ucd=\"arith.ratio\"/>\\n            <Param name=\"Galactic_Long\" value=\"127.09\" unit=\"deg\" ucd=\"pos.galactic.lon\"/>\\n            <Param name=\"Galactic_Lat\" value=\"-18.20\" unit=\"deg\" ucd=\"pos.galactic.lat\"/>\\n            <Param name=\"Ecliptic_Long\" value=\"35.64\" unit=\"deg\" ucd=\"pos.ecliptic.lon\"/>\\n            <Param name=\"Ecliptic_Lat\" value=\"33.60\" unit=\"deg\" ucd=\"pos.ecliptic.lat\"/>\\n        </Group>\\n        <Description>Type=61: The Swift-BAT instrument position notice.</Description>\\n    </What>\\n    <WhereWhen>\\n        <ObsDataLocation>\\n            <ObservatoryLocation id=\"GEOLUN\"/>\\n            <ObservationLocation>\\n                <AstroCoordSystem id=\"UTC-FK5-GEO\"/>\\n                <AstroCoords coord_system_id=\"UTC-FK5-GEO\">\\n                    <Time unit=\"s\">\\n                        <TimeInstant>\\n                            <ISOTime>2024-11-29T05:21:39.032272</ISOTime>\\n                        </TimeInstant>\\n                    </Time>\\n                    <Position2D unit=\"deg\">\\n                        <Name1>RA</Name1>\\n                        <Name2>Dec</Name2>\\n                        <Value2>\\n                            <C1>18.4033</C1>\\n                            <C2>44.4885</C2>\\n                        </Value2>\\n                        <Error2Radius>0.0500</Error2Radius>\\n                    </Position2D>\\n                </AstroCoords>\\n            </ObservationLocation>\\n        </ObsDataLocation>\\n        <Description>The RA,Dec coordinates are of the type: source_object.</Description>\\n    </WhereWhen>\\n    <How>\\n        <Description>Swift Satellite, BAT Instrument</Description>\\n        <Reference uri=\"http://gcn.gsfc.nasa.gov/swift.html\" type=\"url\"/>\\n    </How>\\n    <Why importance=\"0.90\">\\n        <Inference probability=\"0.90\">\\n            <Name>GRB 230228</Name>\\n            <Concept>process.variation.burst;em.gamma</Concept>\\n        </Inference>\\n    </Why>\\n    <Description>\\n  </Description>\\n    <original_prefix>voe</original_prefix>\\n</VOEvent>', ignored=False, source_name='GRB 230228', source_type='GRB', fermi_most_likely_index=None, fermi_detection_prob=None, swift_rate_signif=25.03, antares_ranking=None, hess_significance=None, lvc_false_alarm_rate=None, lvc_significant=False, lvc_event_url=None, lvc_binary_neutron_star_probability=None, lvc_neutron_star_black_hole_probability=None, lvc_binary_black_hole_probability=None, lvc_terrestial_probability=None, lvc_includes_neutron_star_probability=None, lvc_retraction_message=None, lvc_skymap_fits=None, lvc_prob_density_tile=None, lvc_skymap_file=None, lvc_instruments=None)],\n",
       " 'prop_decs_exist': False,\n",
       " 'event_group': EventGroupSchema(id=174946, trig_id='1351314', earliest_event_observed=datetime.datetime(2024, 11, 29, 5, 21, 39, 32272, tzinfo=TzInfo(UTC)), latest_event_observed=datetime.datetime(2024, 11, 29, 5, 21, 39, 32272, tzinfo=TzInfo(UTC)), ra=18.4033, dec=44.4885, ra_hms='1:13:36.792', dec_dms='44:29:18.6', pos_error=0.05, recieved_data=datetime.datetime(2024, 11, 29, 5, 21, 42, 403760, tzinfo=TzInfo(UTC)), source_type='GRB', ignored=True, event_observed=None, source_name='GRB 230228'),\n",
       " 'event_coord': None,\n",
       " 'trigger_bool': False,\n",
       " 'debug_bool': False,\n",
       " 'pending_bool': False,\n",
       " 'observation_reason': 'First observation.',\n",
       " 'proposal_worth_observing': True,\n",
       " 'send_alerts': False,\n",
       " 'reached_end': True,\n",
       " 'decision_reason_log': '2024-11-29 05:21:42.417512+00:00: Event ID 572016: Beginning event analysis. \\n',\n",
       " 'proj_source_bool': False}"
      ]
     },
     "execution_count": 89,
     "metadata": {},
     "output_type": "execute_result"
    }
   ],
   "source": [
    "context"
   ]
  },
  {
   "cell_type": "code",
   "execution_count": 90,
   "metadata": {},
   "outputs": [
    {
     "name": "stdout",
     "output_type": "stream",
     "text": [
      "trigger_bool:  False\n",
      "debug_bool:  False\n",
      "pending_bool:  False\n",
      "decision_reason_log:  2024-11-29 05:21:42.417512+00:00: Event ID 572016: Beginning event analysis. \n",
      "\n"
     ]
    }
   ],
   "source": [
    "print(\"trigger_bool: \", context['trigger_bool'])    \n",
    "print(\"debug_bool: \", context['debug_bool'])\n",
    "print(\"pending_bool: \", context['pending_bool'])    \n",
    "print(\"decision_reason_log: \", context['decision_reason_log'])"
   ]
  },
  {
   "cell_type": "markdown",
   "metadata": {},
   "source": [
    "# Function Implementation"
   ]
  },
  {
   "cell_type": "markdown",
   "metadata": {},
   "source": [
    "Lets reimplement long grb logic using the context data and atra telescope for prop_atca_test_grb model as example. \n",
    "Here, we are writing the logic for is_worth_observing method. The input context parameter of this method is the context dictionary which is written the decorator log_context.\n",
    "its written in prop_api/data/context_logs/prop_atca_test_grb_worth_observing_context_20241129_033525.json\n"
   ]
  },
  {
   "cell_type": "code",
   "execution_count": 91,
   "metadata": {},
   "outputs": [],
   "source": [
    "from typing import Dict, List, Optional, Tuple, Union\n",
    "from proposalsettings.models.prop_atca_long_grb.model import utils_grb\n",
    "from proposalsettings.models.event import Event\n",
    "from proposalsettings.models.telescopesettings import (\n",
    "    ATCATelescopeSettings,\n",
    "    BaseTelescopeSettings,\n",
    "    MWATelescopeSettings,\n",
    ")\n",
    "\n",
    "# pydantic instances\n",
    "prop_dec = context['prop_dec']\n",
    "\n",
    "dec = prop_dec.dec\n",
    "decision_reason_log = context['decision_reason_log']\n",
    "prop_dec=prop_dec\n",
    "\n",
    "# remember that prop_dec is instance of pydantic model and you can treate like class \n",
    "telescope_settings = prop_dec.proposal.telescope_settings\n"
   ]
  },
  {
   "cell_type": "code",
   "execution_count": 92,
   "metadata": {},
   "outputs": [],
   "source": [
    "def is_worth_observing(context):\n",
    "    prop_dec = context[\"prop_dec\"]\n",
    "    decision_reason_log = context['decision_reason_log']\n",
    "    dec = prop_dec.dec\n",
    "    telescope_settings = prop_dec.proposal.telescope_settings\n",
    "    \n",
    "    \n",
    "    context_wo = worth_observing(\n",
    "        event=context['event'],\n",
    "        telescope_settings=telescope_settings,\n",
    "        prop_dec=prop_dec,\n",
    "        dec=dec,\n",
    "        decision_reason_log=decision_reason_log\n",
    "        )\n",
    "    \n",
    "    context[\"trigger_bool\"] = context_wo[\"trigger_bool\"]\n",
    "    context[\"debug_bool\"] = context_wo[\"debug_bool\"]\n",
    "    context[\"pending_bool\"] = context_wo[\"pending_bool\"]\n",
    "    context[\"decision_reason_log\"] = context_wo[\"decision_reason_log\"]\n",
    "    \n",
    "    return context\n",
    "    \n",
    "def worth_observing(\n",
    "        event: Event,\n",
    "        telescope_settings: Union[\n",
    "            BaseTelescopeSettings, MWATelescopeSettings, ATCATelescopeSettings\n",
    "        ],\n",
    "        **kwargs,\n",
    "    ) -> Dict:\n",
    "    \"\"\"\n",
    "    Determine if a GRB event is worth observing based on various criteria.\n",
    "\n",
    "    Args:\n",
    "        event (Event): The GRB event to evaluate.\n",
    "        telescope_settings (Union[BaseTelescopeSettings, MWATelescopeSettings, ATCATelescopeSettings]):\n",
    "            The settings for the telescope.\n",
    "        **kwargs: Additional keyword arguments.\n",
    "\n",
    "    Returns:\n",
    "        Tuple[bool, bool, bool, str]: A tuple containing:\n",
    "            - trigger_bool: Whether to trigger an observation.\n",
    "            - debug_bool: Whether to trigger a debug alert.\n",
    "            - pending_bool: Whether to create a pending observation.\n",
    "            - decision_reason_log: A log of the decision-making process.\n",
    "    \"\"\"\n",
    "\n",
    "    print(\"DEBUG - worth_observing_grb\")\n",
    "\n",
    "    prop_dec = kwargs.get(\"prop_dec\")\n",
    "\n",
    "    # Initialize the context with the event and default values\n",
    "    context = utils_grb.initialize_context(event, kwargs)\n",
    "\n",
    "    # Check if the event's position uncertainty is 0.0\n",
    "    context = utils_grb.check_position_error(context)\n",
    "\n",
    "    # Check if the event's position uncertainty is greater than the maximum allowed\n",
    "    context = utils_grb.check_large_position_error(telescope_settings, context)\n",
    "\n",
    "    # Check if the event's declination is within the ATCA limits\n",
    "    context = utils_grb.check_atca_declination_limits(\n",
    "        telescope_settings, context\n",
    "    )\n",
    "    print(\"DEBUG - context after check_atca_declination_limits\")\n",
    "    # Check the events likelyhood data\n",
    "    context[\"stop_processing\"] = False\n",
    "    context[\"likely_bool\"] = False\n",
    "\n",
    "    context = utils_grb.check_fermi_likelihood(telescope_settings, context)\n",
    "\n",
    "    context = utils_grb.check_swift_significance(telescope_settings, context)\n",
    "\n",
    "    context = utils_grb.check_hess_significance(telescope_settings, context)\n",
    "\n",
    "    context = utils_grb.default_no_likelihood(context)\n",
    "\n",
    "    # Check the duration of the event\n",
    "    # since new if starts, initialize the stop_processing flag\n",
    "    context[\"stop_processing\"] = False\n",
    "\n",
    "    context = utils_grb.check_any_event_duration(telescope_settings, context)\n",
    "\n",
    "    context = utils_grb.check_not_any_event_duration(\n",
    "        telescope_settings, context\n",
    "    )\n",
    "\n",
    "    context = utils_grb.check_duration_with_limits(telescope_settings, context)\n",
    "\n",
    "    context[\"reached_end\"] = True\n",
    "    return context\n",
    "\n"
   ]
  },
  {
   "cell_type": "code",
   "execution_count": 93,
   "metadata": {},
   "outputs": [
    {
     "name": "stdout",
     "output_type": "stream",
     "text": [
      "DEBUG - worth_observing_grb\n",
      "DEBUG - context after check_atca_declination_limits\n",
      "trigger_bool:  False\n",
      "debug_bool:  True\n",
      "pending_bool:  False\n",
      "decision_reason_log:  2024-11-29 05:21:42.417512+00:00: Event ID 572016: Beginning event analysis. \n",
      "2024-11-29 05:54:01.706097+00:00: Event ID 572016: The event's declination (44.4885) is outside limit 1 (-90 < dec < -5) or limit 2 (5 < dec < 20). \n",
      "2024-11-29 05:54:01.747664+00:00: Event ID 572016: SWIFT rate significance (25.03) >= swift_min_rate (0.000) sigma. \n",
      "\n"
     ]
    }
   ],
   "source": [
    "context = is_worth_observing(context)\n",
    "\n",
    "print(\"trigger_bool: \", context['trigger_bool'])    \n",
    "print(\"debug_bool: \", context['debug_bool'])\n",
    "print(\"pending_bool: \", context['pending_bool'])    \n",
    "print(\"decision_reason_log: \", context['decision_reason_log'])\n",
    "\n"
   ]
  },
  {
   "cell_type": "markdown",
   "metadata": {},
   "source": [
    "# Class Implementation\n",
    "\n"
   ]
  },
  {
   "cell_type": "code",
   "execution_count": 54,
   "metadata": {},
   "outputs": [],
   "source": [
    "import datetime as dt\n",
    "import logging\n",
    "from datetime import datetime, timezone\n",
    "from enum import Enum\n",
    "from typing import Dict, List, Optional, Tuple, Union\n",
    "\n",
    "from pydantic import BaseModel, Field\n",
    "\n",
    "from proposalsettings.consts import DEFAULT_PRIORITY, streams_all_grbs\n",
    "from proposalsettings.eventtelescope_factory import EventTelescopeFactory\n",
    "from proposalsettings.telescope_factory import TelescopeFactory\n",
    "from proposalsettings.telescopeprojectid_factory import TelescopeProjectIdFactory\n",
    "\n",
    "\n",
    "# general utils\n",
    "from proposalsettings.utils import utils_helper as utils_helper\n",
    "from proposalsettings.utils.utils_log import log_event\n",
    "\n",
    "\n",
    "# general utils\n",
    "from proposalsettings.utils import utils_helper as utils_helper\n",
    "from proposalsettings.utils.utils_log import log_event\n",
    "\n",
    "# source and triggerchoices and event and proposal classes in models\n",
    "from proposalsettings.models.constants import SourceChoices, TriggerOnChoices\n",
    "from proposalsettings.models.event import Event\n",
    "from proposalsettings.models.proposal import ProposalSettings\n",
    "from proposalsettings.models.telescope import EventTelescope, TelescopeProjectId\n",
    "from proposalsettings.models.telescopesettings import (\n",
    "    ATCATelescopeSettings,\n",
    "    BaseTelescopeSettings,\n",
    "    MWATelescopeSettings,\n",
    ")\n",
    "\n",
    "# local utils\n",
    "from proposalsettings.models.prop_atca_long_grb import utils_grb\n",
    "from proposalsettings.models.prop_atca_long_grb import utils_telescope_atca as utils_atca\n",
    "\n"
   ]
  },
  {
   "cell_type": "code",
   "execution_count": 55,
   "metadata": {},
   "outputs": [],
   "source": [
    "logger = logging.getLogger(__name__)\n",
    "\n",
    "\n",
    "class ProposalAtcaLongGrb(ProposalSettings):\n",
    "    \"\"\"\n",
    "    Represents the settings for ATCA Long GRB proposal.\n",
    "    \"\"\"\n",
    "\n",
    "    # Class variables\n",
    "    streams: List[str] = [\n",
    "        \"FERMI_GBM_ALERT\",\n",
    "        \"FERMI_GBM_FIN_POS\",\n",
    "        \"FERMI_GBM_FLT_POS\",\n",
    "        \"FERMI_GBM_GND_POS\",\n",
    "        \"FERMI_GBM_SUBTHRESH\",\n",
    "        \"FERMI_GBM_TEST_POS\",\n",
    "        \"FERMI_LAT_MONITOR\",\n",
    "        \"FERMI_LAT_OFFLINE_POS\",\n",
    "        \"FERMI_LAT_TEST_POS\",\n",
    "        \"FERMI_POINT_DIR\",\n",
    "        \"HESS_GRB_TO\",\n",
    "        \"MAXI_KNOWN_SOURCE_POS\",\n",
    "        \"SWIFT_BAT_GRB_POS\",\n",
    "        \"SWIFT_BAT_GRB_POS\",\n",
    "        \"SWIFT_BAT_GRB_TEST_POS\",\n",
    "        \"SWIFT_BAT_LIGHTCURVE\",\n",
    "        \"SWIFT_BAT_QUICKLOOK_POS\",\n",
    "        \"SWIFT_BAT_SCALEDMAP\",\n",
    "        \"SWIFT_BAT_TRANS_POS\",\n",
    "        \"SWIFT_FOM_OBS\",\n",
    "        \"SWIFT_SC_SLEW\",\n",
    "        \"SWIFT_UVOT_NACK_POS\",\n",
    "        \"SWIFT_UVOT_POS\",\n",
    "    ]\n",
    "\n",
    "    version: str = \"1.0.0\"\n",
    "    id: int = 12\n",
    "    proposal_id: str = \"ATCA_long_GRB\"\n",
    "    proposal_description: str = (\n",
    "        \"This is the triggering proposal for the large ATCA Long GRB program\"\n",
    "    )\n",
    "    priority: int = DEFAULT_PRIORITY\n",
    "    testing: TriggerOnChoices = TriggerOnChoices.REAL_ONLY\n",
    "    source_type: SourceChoices = SourceChoices.GRB\n",
    "\n",
    "    # Initialize factories in correct order\n",
    "    _telescope_factory = TelescopeFactory()\n",
    "    _project_id_factory = TelescopeProjectIdFactory(\n",
    "        telescope_factory=_telescope_factory\n",
    "    )\n",
    "    _event_telescope_factory = EventTelescopeFactory()\n",
    "\n",
    "    # Instance variables with default values\n",
    "    project_id: TelescopeProjectId = _project_id_factory.telescope_project_c3542\n",
    "    event_telescope: EventTelescope = _event_telescope_factory.event_telescope_swift\n",
    "    telescope_settings: ATCATelescopeSettings = ATCATelescopeSettings(\n",
    "        telescope=_telescope_factory.telescope_atca,\n",
    "        event_min_duration=2.056,\n",
    "        event_max_duration=10000.0,\n",
    "        pending_min_duration_1=0.0,\n",
    "        pending_max_duration_1=2.055,\n",
    "        pending_min_duration_2=0.0,\n",
    "        pending_max_duration_2=0.0,\n",
    "        maximum_position_uncertainty=0.1,\n",
    "        observe_significant=True,\n",
    "        atca_band_7mm=True,\n",
    "        atca_band_7mm_freq1=33000.0,\n",
    "        atca_band_7mm_freq2=35000.0,\n",
    "        atca_band_15mm=True,\n",
    "        atca_band_15mm_freq1=16700.0,\n",
    "        atca_band_15mm_freq2=21200.0,\n",
    "        atca_band_4cm=True,\n",
    "        atca_band_4cm_freq1=5500.0,\n",
    "        atca_band_4cm_freq2=9000.0,\n",
    "        atca_band_15mm_exptime=30,\n",
    "        atca_band_4cm_exptime=20,\n",
    "        atca_band_7mm_exptime=30,\n",
    "        atca_min_exptime=120,\n",
    "    )\n",
    "\n",
    "    class Config:\n",
    "        extra = \"forbid\"\n",
    "\n",
    "    def is_worth_observing(\n",
    "        self, context: Dict, **kwargs\n",
    "    ) -> Tuple[bool, bool, bool, str]:\n",
    "        \"\"\"\n",
    "        Determines if an event is worth observing based on the source settings.\n",
    "\n",
    "        Args:\n",
    "            event (Event): The event to evaluate.\n",
    "            **kwargs: Additional keyword arguments to pass to the worth_observing method.\n",
    "\n",
    "        Returns:\n",
    "            Tuple[bool, bool, bool, str]: A tuple containing:\n",
    "                - bool: True if the event is worth observing, False otherwise.\n",
    "                - bool: True if the event passes additional criteria.\n",
    "                - bool: True if the event requires immediate action.\n",
    "                - str: A message explaining the decision.\n",
    "        \"\"\"\n",
    "        event = context[\"event\"]\n",
    "        prop_dec = context[\"prop_dec\"]\n",
    "        decision_reason_log = context['decision_reason_log']\n",
    "        dec = prop_dec.dec\n",
    "\n",
    "        context_wo = self.worth_observing(\n",
    "            event,\n",
    "            self.telescope_settings,\n",
    "            prop_dec=prop_dec,\n",
    "            dec=dec,\n",
    "            decision_reason_log=decision_reason_log,\n",
    "        )\n",
    "\n",
    "        context[\"trigger_bool\"] = context_wo[\"trigger_bool\"]\n",
    "        context[\"debug_bool\"] = context_wo[\"debug_bool\"]\n",
    "        context[\"pending_bool\"] = context_wo[\"pending_bool\"]\n",
    "        context[\"decision_reason_log\"] = context_wo[\"decision_reason_log\"]\n",
    "\n",
    "        return context\n",
    "\n",
    "\n",
    "    @log_event(\n",
    "        log_location=\"end\", message=f\"Trigger observation completed\", level=\"info\"\n",
    "    )\n",
    "    def trigger_gen_observation(self, context: Dict, **kwargs) -> Tuple[str, str]:\n",
    "        \"\"\"\n",
    "        Triggers the generation of an observation based on the event context.\n",
    "\n",
    "        This method is called after receiving a response that an event is worth observing.\n",
    "        It performs various checks and triggers observations for different telescopes (MWA, ATCA).\n",
    "\n",
    "        Args:\n",
    "            context (Dict): A dictionary containing the context of the event and observation.\n",
    "            **kwargs: Additional keyword arguments.\n",
    "\n",
    "        Returns:\n",
    "            Tuple[str, str]: A tuple containing the decision and the decision reason log.\n",
    "        \"\"\"\n",
    "        print(f\"DEBUG - START context keys: {context.keys()}\")\n",
    "\n",
    "        context = utils_helper.check_mwa_horizon_and_prepare_context(context)\n",
    "\n",
    "        # TODO: Remove this after testing\n",
    "        # context[\"stop_processing\"] = False\n",
    "        print(\"DEBUG - context['stop_processing']: \", context[\"stop_processing\"])\n",
    "\n",
    "        if context[\"stop_processing\"]:\n",
    "            return context[\"decision\"], context[\"decision_reason_log\"]\n",
    "\n",
    "        context = self.trigger_atca_observation(\n",
    "            telescope_settings=self.telescope_settings, context=context\n",
    "        )\n",
    "\n",
    "        if (\n",
    "            self.telescope_settings.telescope.name.startswith(\"ATCA\") is False\n",
    "            and self.telescope_settings.telescope.name.startswith(\"MWA\") is False\n",
    "        ):\n",
    "            context[\"decision_reason_log\"] = (\n",
    "                f\"{context['decision_reason_log']}{datetime.now(dt.timezone.utc)}: Event ID {context['event_id']}: Not making an MWA observation. \\n\"\n",
    "            )\n",
    "\n",
    "        context['reached_end'] = True\n",
    "        print(f\"DEBUG - END context keys: {context.keys()}\")\n",
    "        return context\n",
    "\n",
    "    # GRB settings\n",
    "    # event: Dict, proc_dec: Dict\n",
    "    # Final aggregation function\n",
    "    @log_event(\n",
    "        log_location=\"end\",\n",
    "        message=f\"Worth observing for GRB source completed\",\n",
    "        level=\"info\",\n",
    "    )\n",
    "    def worth_observing(\n",
    "        self,\n",
    "        event: Event,\n",
    "        telescope_settings: Union[\n",
    "            BaseTelescopeSettings, MWATelescopeSettings, ATCATelescopeSettings\n",
    "        ],\n",
    "        **kwargs,\n",
    "    ) -> Dict:\n",
    "        \"\"\"\n",
    "        Determine if a GRB event is worth observing based on various criteria.\n",
    "\n",
    "        Args:\n",
    "            event (Event): The GRB event to evaluate.\n",
    "            telescope_settings (Union[BaseTelescopeSettings, MWATelescopeSettings, ATCATelescopeSettings]):\n",
    "                The settings for the telescope.\n",
    "            **kwargs: Additional keyword arguments.\n",
    "\n",
    "        Returns:\n",
    "            Tuple[bool, bool, bool, str]: A tuple containing:\n",
    "                - trigger_bool: Whether to trigger an observation.\n",
    "                - debug_bool: Whether to trigger a debug alert.\n",
    "                - pending_bool: Whether to create a pending observation.\n",
    "                - decision_reason_log: A log of the decision-making process.\n",
    "        \"\"\"\n",
    "\n",
    "        print(\"DEBUG - worth_observing_grb\")\n",
    "\n",
    "        prop_dec = kwargs.get(\"prop_dec\")\n",
    "\n",
    "        # Initialize the context with the event and default values\n",
    "        context = utils_grb.initialize_context(event, kwargs)\n",
    "\n",
    "        # Check if the event's position uncertainty is 0.0\n",
    "        context = utils_grb.check_position_error(context)\n",
    "\n",
    "        # Check if the event's position uncertainty is greater than the maximum allowed\n",
    "        context = utils_grb.check_large_position_error(self.telescope_settings, context)\n",
    "\n",
    "        # Check if the event's declination is within the ATCA limits\n",
    "        context = utils_grb.check_atca_declination_limits(\n",
    "            self.telescope_settings, context\n",
    "        )\n",
    "        print(\"DEBUG - context after check_atca_declination_limits\")\n",
    "        # Check the events likelyhood data\n",
    "        context[\"stop_processing\"] = False\n",
    "        context[\"likely_bool\"] = False\n",
    "\n",
    "        context = utils_grb.check_fermi_likelihood(self.telescope_settings, context)\n",
    "\n",
    "        context = utils_grb.check_swift_significance(self.telescope_settings, context)\n",
    "\n",
    "        context = utils_grb.check_hess_significance(self.telescope_settings, context)\n",
    "\n",
    "        context = utils_grb.default_no_likelihood(context)\n",
    "\n",
    "        # Check the duration of the event\n",
    "        # since new if starts, initialize the stop_processing flag\n",
    "        context[\"stop_processing\"] = False\n",
    "\n",
    "        context = utils_grb.check_any_event_duration(self.telescope_settings, context)\n",
    "\n",
    "        context = utils_grb.check_not_any_event_duration(\n",
    "            self.telescope_settings, context\n",
    "        )\n",
    "\n",
    "        context = utils_grb.check_duration_with_limits(self.telescope_settings, context)\n",
    "\n",
    "        context[\"reached_end\"] = True\n",
    "        return context\n",
    "\n",
    "    @log_event(\n",
    "        log_location=\"end\",\n",
    "        message=f\"Trigger ATCA observation for GRB source completed\",\n",
    "        level=\"info\",\n",
    "    )\n",
    "    def trigger_atca_observation(\n",
    "        self,\n",
    "        context: Dict,\n",
    "        telescope_settings: Union[\n",
    "            BaseTelescopeSettings, MWATelescopeSettings, ATCATelescopeSettings\n",
    "        ],\n",
    "        **kwargs,\n",
    "    ) -> Tuple[str, str]:\n",
    "        \"\"\"\n",
    "        Trigger an ATCA observation for a GRB event.\n",
    "\n",
    "        Args:\n",
    "            context (Dict): The context containing event and observation information.\n",
    "            telescope_settings (Union[BaseTelescopeSettings, MWATelescopeSettings, ATCATelescopeSettings]):\n",
    "                The settings for the ATCA telescope.\n",
    "            **kwargs: Additional keyword arguments.\n",
    "\n",
    "        Returns:\n",
    "            Tuple[str, str]: A tuple containing updated context information.\n",
    "        \"\"\"\n",
    "\n",
    "        telescope_name = telescope_settings.telescope.name\n",
    "\n",
    "        if context[\"stop_processing\"]:\n",
    "            return context\n",
    "\n",
    "        if telescope_name.startswith(\"ATCA\") is False:\n",
    "            return context\n",
    "\n",
    "        print(\"DEBUG - Trigger ATCA observation for GRB source\")\n",
    "\n",
    "        # context = utils_tel.handle_atca_observation(context)\n",
    "\n",
    "        context = utils_atca.handle_atca_observation(\n",
    "            telescope_settings=telescope_settings, context=context\n",
    "        )\n",
    "\n",
    "        context[\"reached_end\"] = True\n",
    "\n",
    "        return context\n"
   ]
  },
  {
   "cell_type": "markdown",
   "metadata": {},
   "source": [
    "It needs to be tested with the context data. "
   ]
  },
  {
   "cell_type": "code",
   "execution_count": 96,
   "metadata": {},
   "outputs": [
    {
     "name": "stdout",
     "output_type": "stream",
     "text": [
      "DEBUG - worth_observing_grb\n",
      "DEBUG - context after check_atca_declination_limits\n"
     ]
    }
   ],
   "source": [
    "prop = ProposalAtcaLongGrb()\n",
    "context = prop.is_worth_observing(context)"
   ]
  },
  {
   "cell_type": "code",
   "execution_count": 97,
   "metadata": {},
   "outputs": [
    {
     "name": "stdout",
     "output_type": "stream",
     "text": [
      "trigger_bool:  False\n",
      "debug_bool:  True\n",
      "pending_bool:  False\n",
      "decision_reason_log:  2024-11-29 05:21:42.417512+00:00: Event ID 572016: Beginning event analysis. \n",
      "2024-11-29 05:54:01.706097+00:00: Event ID 572016: The event's declination (44.4885) is outside limit 1 (-90 < dec < -5) or limit 2 (5 < dec < 20). \n",
      "2024-11-29 05:54:01.747664+00:00: Event ID 572016: SWIFT rate significance (25.03) >= swift_min_rate (0.000) sigma. \n",
      "2024-11-29 05:56:41.070414+00:00: Event ID 572016: The event's declination (44.4885) is outside limit 1 (-90 < dec < -5) or limit 2 (5 < dec < 20). \n",
      "2024-11-29 05:56:41.108492+00:00: Event ID 572016: SWIFT rate significance (25.03) >= swift_min_rate (0.000) sigma. \n",
      "2024-11-29 05:57:10.438216+00:00: Event ID 572016: The event's declination (44.4885) is outside limit 1 (-90 < dec < -5) or limit 2 (5 < dec < 20). \n",
      "2024-11-29 05:57:10.493376+00:00: Event ID 572016: SWIFT rate significance (25.03) >= swift_min_rate (0.000) sigma. \n",
      "\n"
     ]
    }
   ],
   "source": [
    "print(\"trigger_bool: \", context['trigger_bool'])    \n",
    "print(\"debug_bool: \", context['debug_bool'])\n",
    "print(\"pending_bool: \", context['pending_bool'])    \n",
    "print(\"decision_reason_log: \", context['decision_reason_log'])"
   ]
  },
  {
   "cell_type": "code",
   "execution_count": null,
   "metadata": {},
   "outputs": [],
   "source": []
  }
 ],
 "metadata": {
  "kernelspec": {
   "display_name": "base",
   "language": "python",
   "name": "python3"
  },
  "language_info": {
   "codemirror_mode": {
    "name": "ipython",
    "version": 3
   },
   "file_extension": ".py",
   "mimetype": "text/x-python",
   "name": "python",
   "nbconvert_exporter": "python",
   "pygments_lexer": "ipython3",
   "version": "3.10.15"
  }
 },
 "nbformat": 4,
 "nbformat_minor": 2
}
